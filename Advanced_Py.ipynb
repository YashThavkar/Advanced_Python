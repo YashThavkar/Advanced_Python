{
  "nbformat": 4,
  "nbformat_minor": 0,
  "metadata": {
    "colab": {
      "provenance": [],
      "include_colab_link": true
    },
    "kernelspec": {
      "name": "python3",
      "display_name": "Python 3"
    },
    "language_info": {
      "name": "python"
    }
  },
  "cells": [
    {
      "cell_type": "markdown",
      "metadata": {
        "id": "view-in-github",
        "colab_type": "text"
      },
      "source": [
        "<a href=\"https://colab.research.google.com/github/YashThavkar/Advanced_Python/blob/main/Advanced_Py.ipynb\" target=\"_parent\"><img src=\"https://colab.research.google.com/assets/colab-badge.svg\" alt=\"Open In Colab\"/></a>"
      ]
    },
    {
      "cell_type": "markdown",
      "source": [
        "#Day 1"
      ],
      "metadata": {
        "id": "TDpaBrqvokIc"
      }
    },
    {
      "cell_type": "markdown",
      "source": [
        "# <h2><b>Introduction to Google colab</b> </h2>"
      ],
      "metadata": {
        "id": "0T1E0K1lKYtT"
      }
    },
    {
      "cell_type": "markdown",
      "source": [
        "* Google Colab is a document that allows you to write, run, and share\n",
        "Python code within your browser.\n",
        "* It is a version of the popular Jupyter Notebook within the Google suite of tools.\n",
        "* Jupyter Notebooks (and therefore Google Colab) allow you to create a document containing executable code along with text, images, HTML, LaTeX, etc. \n",
        "which is then stored in your google drive and shareable to peers and colleagues for editing, commenting, and viewing.\n",
        "* Watch <a href=\"https://www.youtube.com/watch?v=inN8seMm7UI\">Introduction to Colab</a> to find out more"
      ],
      "metadata": {
        "id": "z9m_Y-soK60d"
      }
    },
    {
      "cell_type": "markdown",
      "source": [
        "<h3> Benefits of Google Colab </h3>\n",
        "\n",
        "* Sharing notebooks is as easy as sharing any Google document. You can also get the app and run the code from your phone.\n",
        "\n",
        "* You can use the powerful and popular Python language in your Google Drive, and the set-up will take less than five minutes.\n",
        "\n",
        "* Because Python runs on a server (and not in your local browser or on your local computer) you can easily use it to interact with an online database and analyze data in situations where you need to keep the code private.\n",
        "\n",
        "* Colab is shipped with several pre-installed data libraries, such as Pandas, NumPy, Matplotlib, which is awesome. Google Colab provides even more pre-installed machine learning libraries such as Keras, TensorFlow, and PyTorch.\n",
        "\n",
        "* Free GPU and TPU Use"
      ],
      "metadata": {
        "id": "Y5DHfuv5MtHH"
      }
    },
    {
      "cell_type": "markdown",
      "source": [
        "# <h2><b>Introduction to Python</b></h2>"
      ],
      "metadata": {
        "id": "TgH37v_hI4Wj"
      }
    },
    {
      "cell_type": "markdown",
      "source": [
        "* Python is a high-level programming language for general-purpose programming.\n",
        "* It is an open source, interpreted, objected-oriented programming language. \n",
        "* Python was created by a Dutch programmer, Guido van Rossum. \n",
        "* The name of Python programming language was derived from a British sketch comedy series, Month Python's Flying Circus. \n",
        "* The first version was released on February 20, 1991.\n",
        "* It has been used to develop web applications, desktop applications, system adminstration, and machine learning libraries\n",
        "* Python is highly embraced language in the data science and machine learning community"
      ],
      "metadata": {
        "id": "x_xzleOKJ7Qp"
      }
    },
    {
      "cell_type": "markdown",
      "source": [
        "**Print Statement**"
      ],
      "metadata": {
        "id": "j2wf5V7pOnhM"
      }
    },
    {
      "cell_type": "code",
      "execution_count": null,
      "metadata": {
        "id": "FHBn7V8nIe-5",
        "colab": {
          "base_uri": "https://localhost:8080/"
        },
        "outputId": "09708194-3547-4983-a151-1f6a4616f8c3"
      },
      "outputs": [
        {
          "output_type": "stream",
          "name": "stdout",
          "text": [
            "Hello World\n"
          ]
        }
      ],
      "source": [
        "print(\"Hello World\")"
      ]
    },
    {
      "cell_type": "markdown",
      "source": [
        "**Comment** <br>\n",
        "A comment is a part of the code which is not executed by python. So we can leave some text in our code to make our code more readable. Python does not run the comment part. A comment in python starts with hash(#) symbol. This is how you write a comment in python"
      ],
      "metadata": {
        "id": "DKzx9SfnZurC"
      }
    },
    {
      "cell_type": "code",
      "source": [
        "# this is a python comment\n",
        "# this code is not executed"
      ],
      "metadata": {
        "id": "_mf12ybwZzIf"
      },
      "execution_count": null,
      "outputs": []
    },
    {
      "cell_type": "markdown",
      "source": [
        "Let us do some basic mathematical operations (addition, subtraction, multiplication, division, modulus, exponential)."
      ],
      "metadata": {
        "id": "UCQU4EOiPSve"
      }
    },
    {
      "cell_type": "code",
      "source": [
        "print(5 + 3) # addtion"
      ],
      "metadata": {
        "colab": {
          "base_uri": "https://localhost:8080/"
        },
        "id": "UwtpWcJ1PTR3",
        "outputId": "feac6fd2-1269-46bf-fb30-043f9b6d285e"
      },
      "execution_count": null,
      "outputs": [
        {
          "output_type": "stream",
          "name": "stdout",
          "text": [
            "8\n"
          ]
        }
      ]
    },
    {
      "cell_type": "code",
      "source": [
        "print(8 - 2) # subtraction"
      ],
      "metadata": {
        "colab": {
          "base_uri": "https://localhost:8080/"
        },
        "id": "VrXAdbFVbYpT",
        "outputId": "0a09e92e-6525-4ce7-d276-42183bcc8d29"
      },
      "execution_count": null,
      "outputs": [
        {
          "output_type": "stream",
          "name": "stdout",
          "text": [
            "6\n"
          ]
        }
      ]
    },
    {
      "cell_type": "code",
      "source": [
        "print(4 * 2) # multiplication "
      ],
      "metadata": {
        "colab": {
          "base_uri": "https://localhost:8080/"
        },
        "id": "MeQg0j0AbaaL",
        "outputId": "12f3bc38-b975-455f-f34c-c72e7b0436f4"
      },
      "execution_count": null,
      "outputs": [
        {
          "output_type": "stream",
          "name": "stdout",
          "text": [
            "8\n"
          ]
        }
      ]
    },
    {
      "cell_type": "code",
      "source": [
        "print(8/ 2) # division"
      ],
      "metadata": {
        "colab": {
          "base_uri": "https://localhost:8080/"
        },
        "id": "8xNDd2rPbdLd",
        "outputId": "cfd70120-212a-420b-ed47-7e6b1797121a"
      },
      "execution_count": null,
      "outputs": [
        {
          "output_type": "stream",
          "name": "stdout",
          "text": [
            "4.0\n"
          ]
        }
      ]
    },
    {
      "cell_type": "code",
      "source": [
        "print(4 ^ 2) # exponentiation"
      ],
      "metadata": {
        "colab": {
          "base_uri": "https://localhost:8080/"
        },
        "id": "0San30AAbedE",
        "outputId": "0ba05579-161a-41d8-84c8-67f20d01b461"
      },
      "execution_count": null,
      "outputs": [
        {
          "output_type": "stream",
          "name": "stdout",
          "text": [
            "6\n"
          ]
        }
      ]
    },
    {
      "cell_type": "markdown",
      "source": [
        "In python we have the following additional operations:"
      ],
      "metadata": {
        "id": "1RV8QUqGbF_K"
      }
    },
    {
      "cell_type": "code",
      "source": [
        "print(7 % 2) # which means finding the remainder (modulus)"
      ],
      "metadata": {
        "colab": {
          "base_uri": "https://localhost:8080/"
        },
        "id": "2SD_k2MJbGQ0",
        "outputId": "ff3b86e4-0b39-4150-a7cd-bce5faddfc28"
      },
      "execution_count": null,
      "outputs": [
        {
          "output_type": "stream",
          "name": "stdout",
          "text": [
            "1\n"
          ]
        }
      ]
    },
    {
      "cell_type": "code",
      "source": [
        "print(7 // 2) # which means removing the remainder"
      ],
      "metadata": {
        "colab": {
          "base_uri": "https://localhost:8080/"
        },
        "id": "R3BAgdavbjkA",
        "outputId": "b31b8a27-3aba-495e-c2a2-331a44a7d890"
      },
      "execution_count": null,
      "outputs": [
        {
          "output_type": "stream",
          "name": "stdout",
          "text": [
            "3\n"
          ]
        }
      ]
    },
    {
      "cell_type": "markdown",
      "source": [
        "<h1>Data types</h1>\n",
        "\n",
        "In Python there are several types of data types. Let us get started with the most common ones. Different data types will be covered in detail in other sections. For the time being, let us just go through the different data types and get familiar with them."
      ],
      "metadata": {
        "id": "W154eZNsb8lZ"
      }
    },
    {
      "cell_type": "markdown",
      "source": [
        "<h3>Number</h3>\n",
        "\n",
        "**Integer:** (negative, zero and positive) Example: `... -3, -2, -1, 0, 1, 2, 3 ...`\n",
        "<br>\n",
        "**Float:** (Decimal number) Example `... -3.5, -2.25, -1.0, 0.0, 1.1, 2.2, 3.5 ...`\n",
        "<br>\n",
        "**Complex**(Complex Numbers) Example `1 + j, 2 + 4j`\n",
        "\n"
      ],
      "metadata": {
        "id": "RaJ2-4cwcP0U"
      }
    },
    {
      "cell_type": "markdown",
      "source": [
        "\n",
        "<h3> String </h3>\n",
        "\n",
        "A collection of one or more characters under a single or double quote. If a string is more than one sentence then we use a triple quote.\n",
        "\n",
        "Example:\n",
        "```\n",
        "'Asabeneh'\n",
        "'Finland'\n",
        "'Python'\n",
        "'I love teaching'\n",
        "'I hope you are enjoying the first day of 30DaysOfPython Challenge'\n",
        "```\n",
        "\n",
        "<h3> Booleans</h3>\n",
        "\n",
        "A boolean data type is either a True or False value. T and F should be always uppercase.\n",
        "\n",
        "Example:\n",
        "\n",
        "    True  #  Is the light on? If it is on, then the value is True\n",
        "    False # Is the light on? If it is off, then the value is False\n",
        "\n",
        "<br>\n",
        "\n",
        "<h3>List</3>\n",
        "\n",
        "Python list is an ordered collection which allows to store different data type items. A list is similar to an array in JavaScript.\n",
        "\n",
        "Example:\n",
        "```\n",
        "[0, 1, 2, 3, 4, 5]  # all are the same data types - a list of numbers\n",
        "['Banana', 'Orange', 'Mango', 'Avocado'] # all the same data types - a list of strings (fruits)\n",
        "['Finland','Estonia', 'Sweden','Norway'] # all the same data types - a list of strings (countries)\n",
        "['Banana', 10, False, 9.81] # different data types in the list - string, integer, boolean and float\n",
        "```\n",
        "<br>\n",
        "\n",
        "<h3>Dictionary</h3>\n",
        "\n",
        "A Python dictionary object is an unordered collection of data in a key value pair format.\n",
        "\n",
        "Example:\n",
        "```\n",
        "{\n",
        "'first_name':'Asabeneh',\n",
        "'last_name':'Yetayeh',\n",
        "'country':'Finland', \n",
        "'age':250, \n",
        "'is_married':True,\n",
        "'skills':['JS', 'React', 'Node', 'Python']\n",
        "}\n",
        "```\n",
        "<br>\n",
        "<h3>Tuple</h3>\n",
        "\n",
        "A tuple is an ordered collection of different data types like list but tuples can not be modified once they are created. They are immutable.\n",
        "\n",
        "Example:\n",
        "```\n",
        "('Asabeneh', 'Pawel', 'Brook', 'Abraham', 'Lidiya') # Names\n",
        "('Earth', 'Jupiter', 'Neptune', 'Mars', 'Venus', 'Saturn', 'Uranus', 'Mercury') # planets\n",
        "\n",
        "```\n",
        "<br>\n",
        "\n",
        "<h3>Set</h3>\n",
        "\n",
        "A set is a collection of data types similar to list and tuple. Unlike list and tuple, set is not an ordered collection of items. Like in Mathematics, set in Python stores only unique items.\n",
        "\n",
        "Example:\n",
        "```\n",
        "{2, 4, 3, 5}\n",
        "{3.14, 9.81, 2.7} # order is not important in set\n",
        "```"
      ],
      "metadata": {
        "id": "X4drHTG0dNOA"
      }
    },
    {
      "cell_type": "markdown",
      "source": [
        "<h2>Checking Data types</h2>\n",
        "\n",
        "To check the data type of certain data/variable we use the type function."
      ],
      "metadata": {
        "id": "M2N3dSZHeO5U"
      }
    },
    {
      "cell_type": "code",
      "source": [
        "type(10) "
      ],
      "metadata": {
        "colab": {
          "base_uri": "https://localhost:8080/"
        },
        "id": "IaOBttgieWCB",
        "outputId": "dc840d45-36f0-4a3c-df0f-33ba0457beac"
      },
      "execution_count": null,
      "outputs": [
        {
          "output_type": "execute_result",
          "data": {
            "text/plain": [
              "int"
            ]
          },
          "metadata": {},
          "execution_count": 16
        }
      ]
    },
    {
      "cell_type": "code",
      "source": [
        "type(10.4)"
      ],
      "metadata": {
        "colab": {
          "base_uri": "https://localhost:8080/"
        },
        "id": "TeNo276Mefrk",
        "outputId": "b39bf839-9563-42d1-f39f-4f2f47629cd9"
      },
      "execution_count": null,
      "outputs": [
        {
          "output_type": "execute_result",
          "data": {
            "text/plain": [
              "float"
            ]
          },
          "metadata": {},
          "execution_count": 20
        }
      ]
    },
    {
      "cell_type": "code",
      "source": [
        "type(5 + 1j)"
      ],
      "metadata": {
        "colab": {
          "base_uri": "https://localhost:8080/"
        },
        "id": "Sa7pDGRYelXi",
        "outputId": "949b5bc0-698c-4e8b-ce27-10dd6dcbb6f6"
      },
      "execution_count": null,
      "outputs": [
        {
          "output_type": "execute_result",
          "data": {
            "text/plain": [
              "complex"
            ]
          },
          "metadata": {},
          "execution_count": 21
        }
      ]
    },
    {
      "cell_type": "code",
      "source": [
        "type('this')"
      ],
      "metadata": {
        "colab": {
          "base_uri": "https://localhost:8080/"
        },
        "id": "XF-XWfmcebj6",
        "outputId": "936187f7-7dbb-40fc-81e2-9a8b95c19f7e"
      },
      "execution_count": null,
      "outputs": [
        {
          "output_type": "execute_result",
          "data": {
            "text/plain": [
              "str"
            ]
          },
          "metadata": {},
          "execution_count": 18
        }
      ]
    },
    {
      "cell_type": "code",
      "source": [
        "type(True)"
      ],
      "metadata": {
        "colab": {
          "base_uri": "https://localhost:8080/"
        },
        "id": "rl-QCXAnedUI",
        "outputId": "f120589e-65de-409c-b010-38481201952c"
      },
      "execution_count": null,
      "outputs": [
        {
          "output_type": "execute_result",
          "data": {
            "text/plain": [
              "bool"
            ]
          },
          "metadata": {},
          "execution_count": 17
        }
      ]
    },
    {
      "cell_type": "code",
      "source": [
        "type([1, 3, 5, 10])"
      ],
      "metadata": {
        "colab": {
          "base_uri": "https://localhost:8080/"
        },
        "id": "HXrzsWZ0es4M",
        "outputId": "b3208c8c-56bc-4204-ed42-5305147065b4"
      },
      "execution_count": null,
      "outputs": [
        {
          "output_type": "execute_result",
          "data": {
            "text/plain": [
              "list"
            ]
          },
          "metadata": {},
          "execution_count": 22
        }
      ]
    },
    {
      "cell_type": "code",
      "source": [
        "type((1,4,5))"
      ],
      "metadata": {
        "colab": {
          "base_uri": "https://localhost:8080/"
        },
        "id": "iSu2S8PReyVz",
        "outputId": "02850425-5f21-4185-8fbd-72711ac30089"
      },
      "execution_count": null,
      "outputs": [
        {
          "output_type": "execute_result",
          "data": {
            "text/plain": [
              "tuple"
            ]
          },
          "metadata": {},
          "execution_count": 23
        }
      ]
    },
    {
      "cell_type": "code",
      "source": [
        "type( {'Name' : 'Krish', 'Roll_No': 21})"
      ],
      "metadata": {
        "colab": {
          "base_uri": "https://localhost:8080/"
        },
        "id": "E6ED66mPfAWs",
        "outputId": "82343d20-08a2-4d16-8d1d-9783477e2487"
      },
      "execution_count": null,
      "outputs": [
        {
          "output_type": "execute_result",
          "data": {
            "text/plain": [
              "dict"
            ]
          },
          "metadata": {},
          "execution_count": 25
        }
      ]
    },
    {
      "cell_type": "code",
      "source": [
        "type({1, 23 ,34 ,2})"
      ],
      "metadata": {
        "colab": {
          "base_uri": "https://localhost:8080/"
        },
        "id": "EKQBgucOfTla",
        "outputId": "e4aea482-6110-44a8-faf5-129dafe9a4ff"
      },
      "execution_count": null,
      "outputs": [
        {
          "output_type": "execute_result",
          "data": {
            "text/plain": [
              "set"
            ]
          },
          "metadata": {},
          "execution_count": 28
        }
      ]
    },
    {
      "cell_type": "markdown",
      "source": [
        "**Variables**"
      ],
      "metadata": {
        "id": "aMJCE2-nP9bU"
      }
    },
    {
      "cell_type": "markdown",
      "source": [
        "Variables store data in a computer memory. Mnemonic variables are recommended to use in many programming languages. A mnemonic variable is a variable name that can be easily remembered and associated. A variable refers to a memory address in which data is stored. Number at the beginning, special character, hyphen are not allowed when naming a variable. A variable can have a short name (like x, y, z), but a more descriptive name (firstname, lastname, age, country) is highly recommended."
      ],
      "metadata": {
        "id": "iGnHbgQMQH9j"
      }
    },
    {
      "cell_type": "markdown",
      "source": [
        "Python Variable Name Rules\n",
        "\n",
        "* A variable name must start with a letter or the underscore character\n",
        "* A variable name cannot start with a number\n",
        "* A variable name can only contain alpha-numeric characters and underscores (A-z, 0-9, and _ )\n",
        "* Variable names are case-sensitive (firstname, Firstname, FirstName and FIRSTNAME) are different variables)"
      ],
      "metadata": {
        "id": "9qkp8XqaQLBC"
      }
    },
    {
      "cell_type": "markdown",
      "source": [
        "**Let us se valid variable names:** <br>\n",
        "\n",
        "1. firstname \n",
        "2. lastname \n",
        "3. age \n",
        "4. country\n",
        "5. city\n",
        "6. first_name\n",
        "7. last_name"
      ],
      "metadata": {
        "id": "Gh_IEC_tQZnp"
      }
    },
    {
      "cell_type": "markdown",
      "source": [
        "**Invalid variables names**\n",
        "1. first-name\n",
        "2. first@name\n",
        "3. first$name\n",
        "4. num-1\n",
        "5. 1num"
      ],
      "metadata": {
        "id": "L-CyrHD0RGP5"
      }
    },
    {
      "cell_type": "code",
      "source": [
        "first_name = 'Asabeneh'\n",
        "last_name = 'Yetayeh'\n",
        "country = 'Finland'\n",
        "city = 'Helsinki'\n",
        "age = 250\n",
        "is_married = True\n",
        "skills = ['HTML', 'CSS', 'JS', 'React', 'Python']\n",
        "person_info = {\n",
        "   'firstname':'Asabeneh',\n",
        "   'lastname':'Yetayeh',\n",
        "   'country':'Finland',\n",
        "   'city':'Helsinki'\n",
        "   }\n"
      ],
      "metadata": {
        "id": "OhbvMWsngsu4"
      },
      "execution_count": null,
      "outputs": []
    },
    {
      "cell_type": "markdown",
      "source": [
        "Let us use the print()"
      ],
      "metadata": {
        "id": "fiq16GESg2w1"
      }
    },
    {
      "cell_type": "code",
      "source": [
        "print('First name:', first_name)\n",
        "print('First name length:', len(first_name))\n",
        "print('Last name: ', last_name)\n",
        "print('Last name length: ', len(last_name))\n",
        "print('Country: ', country)\n",
        "print('City: ', city)\n",
        "print('Age: ', age)\n",
        "print('Married: ', is_married)\n",
        "print('Skills: ', skills)\n",
        "print('Person information: ', person_info)"
      ],
      "metadata": {
        "colab": {
          "base_uri": "https://localhost:8080/"
        },
        "id": "FuCsWAoYg4s-",
        "outputId": "0bb6f83c-fce8-446c-d367-bc2565cc0912"
      },
      "execution_count": null,
      "outputs": [
        {
          "output_type": "stream",
          "name": "stdout",
          "text": [
            "First name: Asabeneh\n",
            "First name length: 8\n",
            "Last name:  Yetayeh\n",
            "Last name length:  7\n",
            "Country:  Finland\n",
            "City:  Helsinki\n",
            "Age:  250\n",
            "Married:  True\n",
            "Skills:  ['HTML', 'CSS', 'JS', 'React', 'Python']\n",
            "Person information:  {'firstname': 'Asabeneh', 'lastname': 'Yetayeh', 'country': 'Finland', 'city': 'Helsinki'}\n"
          ]
        }
      ]
    },
    {
      "cell_type": "markdown",
      "source": [
        "#Day 2"
      ],
      "metadata": {
        "id": "HtTsSNvs2ACv"
      }
    },
    {
      "cell_type": "markdown",
      "source": [
        "# Operations in Python\n",
        "1.Arithmetic Operator\n",
        "\n",
        "2.Relational Operators (<,>,==,!=)\n",
        "\n",
        "3.Logical Operators (&)\n",
        "\n"
      ],
      "metadata": {
        "id": "jqDDiyWVnIHx"
      }
    },
    {
      "cell_type": "code",
      "source": [
        "# Declaring the variable at the top first\n",
        "\n",
        "a = 3 # a is a variable name and 3 is an integer data type\n",
        "b = 2 # b is a variable name and 3 is an integer data type\n",
        "\n",
        "# Arithmetic operations and assigning the result to a variable\n",
        "total = a + b\n",
        "diff = a - b\n",
        "product = a * b\n",
        "division = a / b\n",
        "remainder = a % b\n",
        "floor_division = a // b\n",
        "exponential = a ** b\n",
        "\n",
        "# I should have used sum instead of total but sum is a built-in function - try to avoid overriding built-in functions\n",
        "print(total) # if you do not label your print with some string, you never know where the result is coming from\n",
        "print('a + b = ', total)\n",
        "print('a - b = ', diff)\n",
        "print('a * b = ', product)\n",
        "print('a / b = ', division)\n",
        "print('a % b = ', remainder)\n",
        "print('a // b = ', floor_division)\n",
        "print('a ** b = ', exponential)"
      ],
      "metadata": {
        "colab": {
          "base_uri": "https://localhost:8080/"
        },
        "id": "6Gm0xzA844ZL",
        "outputId": "9de501b7-5e9c-4676-8f78-b4930b22f73c"
      },
      "execution_count": null,
      "outputs": [
        {
          "output_type": "stream",
          "name": "stdout",
          "text": [
            "5\n",
            "a + b =  5\n",
            "a - b =  1\n",
            "a * b =  6\n",
            "a / b =  1.5\n",
            "a % b =  1\n",
            "a // b =  1\n",
            "a ** b =  9\n"
          ]
        }
      ]
    },
    {
      "cell_type": "code",
      "source": [
        "# Calculating area of a circle\n",
        "radius = 10                                 # radius of a circle\n",
        "area_of_circle = 3.14 * radius ** 2         # two * sign means exponent or power\n",
        "print('Area of a circle:', area_of_circle)\n",
        "\n",
        "# Calculating area of a rectangle\n",
        "length = 10\n",
        "width = 20\n",
        "area_of_rectangle = length * width\n",
        "print('Area of rectangle:', area_of_rectangle)\n",
        "\n",
        "# Calculating a weight of an object\n",
        "mass = 75\n",
        "gravity = 9.81\n",
        "weight = mass * gravity\n",
        "print(weight, 'N')                         # Adding unit to the weight\n",
        "\n",
        "# Calculate the density of a liquid\n",
        "mass = 75 # in Kg\n",
        "volume = 0.075 # in cubic meter\n",
        "density = mass / volume # 1000 Kg/m^3"
      ],
      "metadata": {
        "colab": {
          "base_uri": "https://localhost:8080/"
        },
        "id": "afsh8Q0l5GWj",
        "outputId": "563cfa88-2c2f-4911-c804-2e528e8afce5"
      },
      "execution_count": null,
      "outputs": [
        {
          "output_type": "stream",
          "name": "stdout",
          "text": [
            "Area of a circle: 314.0\n",
            "Area of rectangle: 200\n",
            "735.75 N\n"
          ]
        }
      ]
    },
    {
      "cell_type": "markdown",
      "source": [
        "Relational Operators (<,>,==,!=)"
      ],
      "metadata": {
        "id": "uBV6cN7V6Mn7"
      }
    },
    {
      "cell_type": "code",
      "source": [
        "print('1', 3 > 2)     # True, because 3 is greater than 2\n",
        "print('2', 3 >= 2)    # True, because 3 is greater than 2\n",
        "print('3', 3 < 2)     # False,  because 3 is greater than 2\n",
        "print('4', 2 < 3)     # True, because 2 is less than 3\n",
        "print('5', 2 <= 3)    # True, because 2 is less than 3\n",
        "print('6', 3 == 2)    # False, because 3 is not equal to 2\n",
        "print('7', 3 != 2)    # True, because 3 is not equal to 2\n",
        "\n",
        "# Comparing something gives either a True or False\n",
        "\n",
        "print('True == True: ', True == True)\n",
        "print('True == False: ', True == False)\n",
        "print('False == False:', False == False)"
      ],
      "metadata": {
        "colab": {
          "base_uri": "https://localhost:8080/"
        },
        "id": "1Dygm86r5BS_",
        "outputId": "fb096673-43b9-47de-fb6b-85693ca819e7"
      },
      "execution_count": null,
      "outputs": [
        {
          "output_type": "stream",
          "name": "stdout",
          "text": [
            "1 True\n",
            "2 True\n",
            "3 False\n",
            "4 True\n",
            "5 True\n",
            "6 False\n",
            "7 True\n",
            "True == True:  True\n",
            "True == False:  False\n",
            "False == False: True\n"
          ]
        }
      ]
    },
    {
      "cell_type": "markdown",
      "source": [
        "Logical Operators\n",
        "\n",
        "Unlike other programming languages python uses keywords and, or and not for logical operators.\n",
        "\n",
        "1- Only Simple\n",
        "\n",
        "2- Combine Logical operators"
      ],
      "metadata": {
        "id": "B7Zwt3mZ5xEf"
      }
    },
    {
      "cell_type": "code",
      "source": [
        "a=True\n",
        "b=False"
      ],
      "metadata": {
        "id": "FUpiXms35n2i"
      },
      "execution_count": null,
      "outputs": []
    },
    {
      "cell_type": "code",
      "source": [
        "a and b"
      ],
      "metadata": {
        "colab": {
          "base_uri": "https://localhost:8080/"
        },
        "id": "VthlH5XL6sZr",
        "outputId": "5f263b5b-f1eb-4f2b-9724-1f03e61be390"
      },
      "execution_count": null,
      "outputs": [
        {
          "output_type": "execute_result",
          "data": {
            "text/plain": [
              "False"
            ]
          },
          "metadata": {},
          "execution_count": 4
        }
      ]
    },
    {
      "cell_type": "code",
      "source": [
        "b and a"
      ],
      "metadata": {
        "colab": {
          "base_uri": "https://localhost:8080/"
        },
        "id": "lx0K9qBP6woj",
        "outputId": "7584995b-bebf-43b3-b6ff-8e0e3f5db435"
      },
      "execution_count": null,
      "outputs": [
        {
          "output_type": "execute_result",
          "data": {
            "text/plain": [
              "False"
            ]
          },
          "metadata": {},
          "execution_count": 8
        }
      ]
    },
    {
      "cell_type": "code",
      "source": [
        "a or a"
      ],
      "metadata": {
        "colab": {
          "base_uri": "https://localhost:8080/"
        },
        "id": "QM-Xn0hV6z-N",
        "outputId": "7129410f-9369-40f7-9cb6-f87fc686e662"
      },
      "execution_count": null,
      "outputs": [
        {
          "output_type": "execute_result",
          "data": {
            "text/plain": [
              "True"
            ]
          },
          "metadata": {},
          "execution_count": 5
        }
      ]
    },
    {
      "cell_type": "code",
      "source": [
        "b&b"
      ],
      "metadata": {
        "colab": {
          "base_uri": "https://localhost:8080/"
        },
        "id": "Z34aYwrh63Re",
        "outputId": "269979d2-b6fe-4647-ef82-ea39f990caf8"
      },
      "execution_count": null,
      "outputs": [
        {
          "output_type": "execute_result",
          "data": {
            "text/plain": [
              "False"
            ]
          },
          "metadata": {},
          "execution_count": 10
        }
      ]
    },
    {
      "cell_type": "code",
      "source": [
        "a|b"
      ],
      "metadata": {
        "colab": {
          "base_uri": "https://localhost:8080/"
        },
        "id": "s66QBu7566xv",
        "outputId": "bd23e10d-9208-49ce-c448-5003d7d01e53"
      },
      "execution_count": null,
      "outputs": [
        {
          "output_type": "execute_result",
          "data": {
            "text/plain": [
              "True"
            ]
          },
          "metadata": {},
          "execution_count": 11
        }
      ]
    },
    {
      "cell_type": "code",
      "source": [
        "a|a"
      ],
      "metadata": {
        "colab": {
          "base_uri": "https://localhost:8080/"
        },
        "id": "ZFKmGBel6-Tm",
        "outputId": "2ff07dcf-8407-4825-bb68-1105779c1eaf"
      },
      "execution_count": null,
      "outputs": [
        {
          "output_type": "execute_result",
          "data": {
            "text/plain": [
              "True"
            ]
          },
          "metadata": {},
          "execution_count": 12
        }
      ]
    },
    {
      "cell_type": "code",
      "source": [
        "b|a"
      ],
      "metadata": {
        "colab": {
          "base_uri": "https://localhost:8080/"
        },
        "id": "3GURZt-w7CHt",
        "outputId": "3d60fa91-0f0d-417f-bcba-8ed71967ab66"
      },
      "execution_count": null,
      "outputs": [
        {
          "output_type": "execute_result",
          "data": {
            "text/plain": [
              "True"
            ]
          },
          "metadata": {},
          "execution_count": 13
        }
      ]
    },
    {
      "cell_type": "code",
      "source": [
        "b|b"
      ],
      "metadata": {
        "colab": {
          "base_uri": "https://localhost:8080/"
        },
        "id": "eddJTyaH7E9M",
        "outputId": "42573fbf-9337-4aad-f790-c177d552aa7e"
      },
      "execution_count": null,
      "outputs": [
        {
          "output_type": "execute_result",
          "data": {
            "text/plain": [
              "False"
            ]
          },
          "metadata": {},
          "execution_count": 14
        }
      ]
    },
    {
      "cell_type": "code",
      "source": [
        "print(3 > 2 and 4 > 3) # True - because both statements are true\n",
        "print(3 > 2 and 4 < 3) # False - because the second statement is false\n",
        "print(3 < 2 and 4 < 3) # False - because both statements are false\n",
        "print('True and True: ', True and True)\n",
        "print(3 > 2 or 4 > 3)  # True - because both statements are true\n",
        "print(3 > 2 or 4 < 3)  # True - because one of the statements is true\n",
        "print(3 < 2 or 4 < 3)  # False - because both statements are false\n",
        "print('True or False:', True or False)\n",
        "print(not 3 > 2)     # False - because 3 > 2 is true, then not True gives False\n",
        "print(not True)      # False - Negation, the not operator turns true to false\n",
        "print(not False)     # True\n",
        "print(not not True)  # True\n",
        "print(not not False) # False"
      ],
      "metadata": {
        "colab": {
          "base_uri": "https://localhost:8080/"
        },
        "id": "8Oson03q7Hfe",
        "outputId": "a41521f7-1fdd-4dc0-8527-9321767a7674"
      },
      "execution_count": null,
      "outputs": [
        {
          "output_type": "stream",
          "name": "stdout",
          "text": [
            "True\n",
            "False\n",
            "False\n",
            "True and True:  True\n",
            "True\n",
            "True\n",
            "False\n",
            "True or False: True\n",
            "False\n",
            "False\n",
            "True\n",
            "True\n",
            "False\n"
          ]
        }
      ]
    },
    {
      "cell_type": "code",
      "source": [
        "print(0 and 1) #zero represents Flase and 1 Represents\n",
        "print(0 or 1)\n",
        "print(not 0)"
      ],
      "metadata": {
        "colab": {
          "base_uri": "https://localhost:8080/"
        },
        "id": "nCf6HRsZPBbb",
        "outputId": "84ce9c18-60bd-417c-8d0f-6a4af4a223bf"
      },
      "execution_count": null,
      "outputs": [
        {
          "output_type": "stream",
          "name": "stdout",
          "text": [
            "0\n",
            "1\n"
          ]
        }
      ]
    },
    {
      "cell_type": "markdown",
      "source": [
        "#Conditionals\n",
        "By default, statements in Python script are executed sequentially from top to bottom. If the processing logic require so, the sequential flow of execution can be altered in two way:\n",
        "\n",
        "Conditional execution: a block of one or more statements will be executed if a certain expression is true\n",
        "Repetitive execution: a block of one or more statements will be repetitively executed as long as a certain expression is true. In this section, we will cover if, else, elif statements. The comparison and logical operators we learned in previous sections will be useful here."
      ],
      "metadata": {
        "id": "hEWqmj0S8ngK"
      }
    },
    {
      "cell_type": "markdown",
      "source": [
        "If Condition"
      ],
      "metadata": {
        "id": "fV5Nx0Nq8x_h"
      }
    },
    {
      "cell_type": "code",
      "execution_count": null,
      "metadata": {
        "id": "4afab501"
      },
      "outputs": [],
      "source": [
        "a=1\n",
        "b=6"
      ]
    },
    {
      "cell_type": "code",
      "execution_count": null,
      "metadata": {
        "id": "9382e5e1",
        "colab": {
          "base_uri": "https://localhost:8080/"
        },
        "outputId": "ef69f6f2-6bd6-42fd-b171-2e8f3ba3aa7a"
      },
      "outputs": [
        {
          "output_type": "stream",
          "name": "stdout",
          "text": [
            "not greater\n"
          ]
        }
      ],
      "source": [
        "if(1>6):\n",
        "    print(\"a is greater\")\n",
        "else:\n",
        "    print(\"not greater\")"
      ]
    },
    {
      "cell_type": "code",
      "execution_count": null,
      "metadata": {
        "id": "9c71da57",
        "outputId": "d7d4783f-df1b-42ad-9617-054f962032d7",
        "colab": {
          "base_uri": "https://localhost:8080/"
        }
      },
      "outputs": [
        {
          "output_type": "stream",
          "name": "stdout",
          "text": [
            "a is smaller\n"
          ]
        }
      ],
      "source": [
        "if(1<6):\n",
        "    print(\"a is smaller\")"
      ]
    },
    {
      "cell_type": "markdown",
      "metadata": {
        "id": "858ff52a"
      },
      "source": [
        "# else Statement"
      ]
    },
    {
      "cell_type": "code",
      "execution_count": null,
      "metadata": {
        "id": "df7a170c"
      },
      "outputs": [],
      "source": [
        "a=23\n",
        "b=12"
      ]
    },
    {
      "cell_type": "code",
      "execution_count": null,
      "metadata": {
        "id": "63e51b99",
        "outputId": "3b6c8d10-a587-4f7f-e3ee-5e159251bf59",
        "colab": {
          "base_uri": "https://localhost:8080/"
        }
      },
      "outputs": [
        {
          "output_type": "stream",
          "name": "stdout",
          "text": [
            "b is greater\n"
          ]
        }
      ],
      "source": [
        "if(a<b):\n",
        "    print(\"a is greater\")\n",
        "else:\n",
        "    print(\"b is greater\")"
      ]
    },
    {
      "cell_type": "markdown",
      "metadata": {
        "id": "f8f733e3"
      },
      "source": [
        "# elif Statement"
      ]
    },
    {
      "cell_type": "code",
      "execution_count": null,
      "metadata": {
        "id": "0c623bcd"
      },
      "outputs": [],
      "source": [
        "a=10\n",
        "b=12\n",
        "c=14"
      ]
    },
    {
      "cell_type": "code",
      "execution_count": null,
      "metadata": {
        "id": "26fa6c40",
        "outputId": "23a65b3d-8434-4799-fb90-ee46691fcad6"
      },
      "outputs": [
        {
          "name": "stdout",
          "output_type": "stream",
          "text": [
            "c is greatest\n"
          ]
        }
      ],
      "source": [
        "if(a>b & a>c):\n",
        "    print(\"a is greatest\")\n",
        "elif(b>a & b>c):\n",
        "    print(\"b is greatest\")\n",
        "else:\n",
        "    print(\"c is greatest\")"
      ]
    },
    {
      "cell_type": "markdown",
      "metadata": {
        "id": "9af98df9"
      },
      "source": [
        "# if statement with Tuple"
      ]
    },
    {
      "cell_type": "code",
      "execution_count": null,
      "metadata": {
        "id": "c7eaef00"
      },
      "outputs": [],
      "source": [
        "tup1=(11,22,33,44)"
      ]
    },
    {
      "cell_type": "code",
      "execution_count": null,
      "metadata": {
        "id": "4d22761b",
        "outputId": "a417374e-048b-455d-8e8a-0678beb9a3a6"
      },
      "outputs": [
        {
          "name": "stdout",
          "output_type": "stream",
          "text": [
            "12 is not present in tup1\n"
          ]
        }
      ],
      "source": [
        "if 12 in tup1:\n",
        "    print(\"12 is present in tup1\")\n",
        "else:\n",
        "    print(\"12 is not present in tup1\")"
      ]
    },
    {
      "cell_type": "markdown",
      "metadata": {
        "id": "f361d17e"
      },
      "source": [
        "# if statement with List"
      ]
    },
    {
      "cell_type": "code",
      "execution_count": null,
      "metadata": {
        "id": "91781ee3"
      },
      "outputs": [],
      "source": [
        "l1=[1,2,3]"
      ]
    },
    {
      "cell_type": "code",
      "execution_count": null,
      "metadata": {
        "id": "3cbcac5f"
      },
      "outputs": [],
      "source": [
        "if(l1[0]==1):\n",
        "    l1[0]=l1[0]+50"
      ]
    },
    {
      "cell_type": "code",
      "execution_count": null,
      "metadata": {
        "id": "59736001",
        "outputId": "cc4edf4a-ec90-4e90-f9ab-6e5d86cf9ae2"
      },
      "outputs": [
        {
          "data": {
            "text/plain": [
              "[51, 2, 3]"
            ]
          },
          "execution_count": 172,
          "metadata": {},
          "output_type": "execute_result"
        }
      ],
      "source": [
        "l1"
      ]
    },
    {
      "cell_type": "code",
      "execution_count": null,
      "metadata": {
        "id": "c592e15d"
      },
      "outputs": [],
      "source": [
        "if(l1[1]==1):\n",
        "    l1[1]=l1[1]+100\n",
        "else:\n",
        "    l1[1]=4"
      ]
    },
    {
      "cell_type": "code",
      "execution_count": null,
      "metadata": {
        "id": "a68406a4",
        "outputId": "f646d110-f007-48bb-b788-e4ab5e12b84f"
      },
      "outputs": [
        {
          "data": {
            "text/plain": [
              "[51, 4, 3]"
            ]
          },
          "execution_count": 174,
          "metadata": {},
          "output_type": "execute_result"
        }
      ],
      "source": [
        "l1"
      ]
    },
    {
      "cell_type": "markdown",
      "metadata": {
        "id": "6e3c365a"
      },
      "source": [
        "# if statement with Dictionary"
      ]
    },
    {
      "cell_type": "code",
      "execution_count": null,
      "metadata": {
        "id": "117dfc95"
      },
      "outputs": [],
      "source": [
        "d1={\"a\":10,\"b\":15,\"c\":20,\"e\":25}"
      ]
    },
    {
      "cell_type": "code",
      "execution_count": null,
      "metadata": {
        "id": "cdeffbfc"
      },
      "outputs": [],
      "source": [
        "if(d1[\"a\"]==25):\n",
        "    d1[\"a\"]=15\n",
        "else:\n",
        "    d1[\"a\"]=d1[\"a\"]+20"
      ]
    },
    {
      "cell_type": "code",
      "execution_count": null,
      "metadata": {
        "id": "17ee0621",
        "outputId": "32bda937-cf4a-4aa7-ed80-f5aaa6bb6692"
      },
      "outputs": [
        {
          "data": {
            "text/plain": [
              "{'a': 30, 'b': 15, 'c': 20, 'e': 25}"
            ]
          },
          "execution_count": 177,
          "metadata": {},
          "output_type": "execute_result"
        }
      ],
      "source": [
        "d1"
      ]
    },
    {
      "cell_type": "markdown",
      "source": [
        "Nested Conditions\n",
        "\n",
        "Conditions can be nested"
      ],
      "metadata": {
        "id": "3bgZryRB9vNm"
      }
    },
    {
      "cell_type": "code",
      "source": [
        "a = 0\n",
        "if a > 0:\n",
        "    if a % 2 == 0:\n",
        "        print('A is a positive and even integer')\n",
        "    else:\n",
        "        print('A is a positive number')\n",
        "elif a == 0:\n",
        "    print('A is zero')\n",
        "else:\n",
        "    print('A is a negative number')\n"
      ],
      "metadata": {
        "id": "zdw7k8lQ9xQ2"
      },
      "execution_count": null,
      "outputs": []
    },
    {
      "cell_type": "markdown",
      "source": [
        "#Day 3"
      ],
      "metadata": {
        "id": "bBYf55wW67zh"
      }
    },
    {
      "cell_type": "markdown",
      "source": [
        "#Loops"
      ],
      "metadata": {
        "id": "oRA898zP8aYo"
      }
    },
    {
      "cell_type": "markdown",
      "source": [
        "Life is full of routines. In programming we also do lots of repetitive tasks. In order to handle repetitive task programming languages use loops. Python programming language also provides the following types of two loops:\n",
        "\n",
        "1.while loop\n",
        "\n",
        "2.for loop"
      ],
      "metadata": {
        "id": "BV-2HCvE8gJP"
      }
    },
    {
      "cell_type": "markdown",
      "source": [
        "#while loop\n",
        "We use the reserved word while to make a while loop. It is used to execute a block of statements repeatedly until a given condition is satisfied. When the condition becomes false, the lines of code after the loop will be continued to be executed."
      ],
      "metadata": {
        "id": "bbgmXZOT-OhX"
      }
    },
    {
      "cell_type": "code",
      "source": [
        "# syntax\n",
        "while condition:\n",
        "    code goes here"
      ],
      "metadata": {
        "id": "zA6IE2LU81PB"
      },
      "execution_count": null,
      "outputs": []
    },
    {
      "cell_type": "code",
      "source": [
        "### While loop \n",
        "count = 0\n",
        "while count < 5:\n",
        "    print(count)\n",
        "    count = count + 1\n",
        "#prints from 0 to 4"
      ],
      "metadata": {
        "id": "5Z-BQ0tw91eA"
      },
      "execution_count": null,
      "outputs": []
    },
    {
      "cell_type": "code",
      "source": [
        "count = 0\n",
        "while count < 5:\n",
        "    print(count)\n",
        "    count = count + 1\n",
        "else:\n",
        "    print(count)"
      ],
      "metadata": {
        "id": "KoLNDFYt8xww"
      },
      "execution_count": null,
      "outputs": []
    },
    {
      "cell_type": "markdown",
      "source": [
        "#Break and Continue\n",
        "Break: We use break when we like to get out of or stop the loop.\n",
        "\n",
        "Continue: With the continue statement we can skip the current iteration, and continue with the next:"
      ],
      "metadata": {
        "id": "ThWYCUlN9X0H"
      }
    },
    {
      "cell_type": "code",
      "source": [
        "## Break \n",
        "count = 0\n",
        "while count < 5:\n",
        "    print(count)\n",
        "    count = count + 1\n",
        "    if count == 3:\n",
        "        break"
      ],
      "metadata": {
        "id": "v1nZ4GMz9PeP"
      },
      "execution_count": null,
      "outputs": []
    },
    {
      "cell_type": "code",
      "source": [
        "### Continue\n",
        "count = 0\n",
        "while count < 5:\n",
        "    if count == 3:\n",
        "        continue\n",
        "    print(count)\n",
        "    count = count + 1"
      ],
      "metadata": {
        "id": "p396MLmY9uLo"
      },
      "execution_count": null,
      "outputs": []
    },
    {
      "cell_type": "markdown",
      "source": [
        "#For loop\n",
        "A for keyword is used to make a for loop, similar with other programming languages, but with some syntax differences. Loop is used for iterating over a sequence (that is either a list, a tuple, a dictionary, a set, or a string)."
      ],
      "metadata": {
        "id": "HCJPL79h95Kd"
      }
    },
    {
      "cell_type": "code",
      "source": [
        "numbers = [0, 1, 2, 3, 4, 5]\n",
        "for number in numbers: # number is temporary name to refer to the list's items, valid only inside this loop\n",
        "    print(number)       # the numbers will be printed line by line, from 0 to 5"
      ],
      "metadata": {
        "id": "_N2wDNHD9y8i"
      },
      "execution_count": null,
      "outputs": []
    },
    {
      "cell_type": "code",
      "source": [
        "language = 'Python'\n",
        "for letter in language:\n",
        "    print(letter)\n",
        "\n",
        "\n",
        "for i in range(len(language)):\n",
        "    print(language[i])"
      ],
      "metadata": {
        "id": "09BpFyDF9_gp"
      },
      "execution_count": null,
      "outputs": []
    },
    {
      "cell_type": "code",
      "source": [
        "## Exersize tuple\n",
        "numbers = (0, 1, 2, 3, 4, 5)\n",
        "for number in numbers:\n",
        "    print(number)"
      ],
      "metadata": {
        "id": "CbFEjDhK-DVf"
      },
      "execution_count": null,
      "outputs": []
    },
    {
      "cell_type": "code",
      "source": [
        "### Dictionary iteration\n",
        "person = {\n",
        "    'first_name':'Asabeneh',\n",
        "    'last_name':'Yetayeh',\n",
        "    'age':250,\n",
        "    'country':'Finland',\n",
        "    'is_marred':True,\n",
        "    'skills':['JavaScript', 'React', 'Node', 'MongoDB', 'Python'],\n",
        "    'address':{\n",
        "        'street':'Space street',\n",
        "        'zipcode':'02210'\n",
        "    }\n",
        "}\n",
        "for key in person:\n",
        "    print(key)\n",
        "\n",
        "for key, value in person.items():\n",
        "    print(key, value) # this way we get both keys and values printed out"
      ],
      "metadata": {
        "id": "XWkdlG_O-gfG"
      },
      "execution_count": null,
      "outputs": []
    },
    {
      "cell_type": "code",
      "source": [
        "### Break in for loop\n",
        "# syntax\n",
        "for iterator in sequence:\n",
        "    code goes here\n",
        "    if condition:\n",
        "        break"
      ],
      "metadata": {
        "id": "0ar8tbsk-0cY"
      },
      "execution_count": null,
      "outputs": []
    },
    {
      "cell_type": "code",
      "source": [
        "numbers = (0,1,2,3,4,5)\n",
        "for number in numbers:\n",
        "    print(number)\n",
        "    if number == 3:\n",
        "        break"
      ],
      "metadata": {
        "id": "KErYBLfW-5kR"
      },
      "execution_count": null,
      "outputs": []
    },
    {
      "cell_type": "code",
      "source": [
        "### Continue\n",
        "numbers = (0,1,2,3,4,5)\n",
        "for number in numbers:\n",
        "    #print(number)\n",
        "    if number == 3:\n",
        "        continue\n",
        "    print(number + 1) \n",
        "    #if number != 5: \n",
        "    #else:\n",
        "       #print(\"loop's end\") # for short hand conditions need both if and else statements\n",
        "print('outside the loop')"
      ],
      "metadata": {
        "colab": {
          "base_uri": "https://localhost:8080/"
        },
        "id": "61zxsu1M--mq",
        "outputId": "2f4aa77c-855d-4fcd-aa01-6ed8e571987c"
      },
      "execution_count": null,
      "outputs": [
        {
          "output_type": "stream",
          "name": "stdout",
          "text": [
            "1\n",
            "2\n",
            "3\n",
            "5\n",
            "6\n",
            "outside the loop\n"
          ]
        }
      ]
    },
    {
      "cell_type": "markdown",
      "source": [
        "#The Range Function\n",
        "The range() function is used list of numbers. The range(start, end, step) takes three parameters: starting, ending and increment. By default it starts from 0 and the increment is 1. The range sequence needs at least 1 argument (end). Creating sequences using range"
      ],
      "metadata": {
        "id": "KibKWNih_xq9"
      }
    },
    {
      "cell_type": "code",
      "source": [
        "lst = list(range(11)) \n",
        "print(lst) # [0, 1, 2, 3, 4, 5, 6, 7, 8, 9, 10]\n",
        "st = set(range(1, 11))    # 2 arguments indicate start and end of the sequence, step set to default 1\n",
        "print(st) # {1, 2, 3, 4, 5, 6, 7, 8, 9, 10}\n",
        "\n",
        "lst = list(range(0,11,2))\n",
        "print(lst) # [0, 2, 4, 6, 8, 10]\n",
        "st = set(range(0,11,2))\n",
        "print(st) #  {0, 2, 4, 6, 8, 10}"
      ],
      "metadata": {
        "colab": {
          "base_uri": "https://localhost:8080/"
        },
        "id": "EaJcNuyqAH7g",
        "outputId": "7f2fbb46-f506-47dc-f25e-cb61df0e3bb5"
      },
      "execution_count": null,
      "outputs": [
        {
          "output_type": "stream",
          "name": "stdout",
          "text": [
            "[0, 1, 2, 3, 4, 5, 6, 7, 8, 9, 10]\n",
            "{1, 2, 3, 4, 5, 6, 7, 8, 9, 10}\n",
            "[0, 2, 4, 6, 8, 10]\n",
            "{0, 2, 4, 6, 8, 10}\n"
          ]
        }
      ]
    },
    {
      "cell_type": "code",
      "source": [
        "for number in range(11):\n",
        "    print(number)   # prints 0 to 10, not including 11"
      ],
      "metadata": {
        "id": "DSO5Y0GN_T5F"
      },
      "execution_count": null,
      "outputs": []
    },
    {
      "cell_type": "markdown",
      "source": [
        "#Nested For Loop\n",
        "We can write loops inside a loop."
      ],
      "metadata": {
        "id": "JMgzrRlmAQGl"
      }
    },
    {
      "cell_type": "code",
      "source": [
        "# syntax\n",
        "for x in range(10):\n",
        "    for t in range(x):\n",
        "        print(t,end=\" \")\n",
        "    print(\" \")"
      ],
      "metadata": {
        "colab": {
          "base_uri": "https://localhost:8080/"
        },
        "id": "eecjiqcnATjN",
        "outputId": "1e839647-8432-4187-bf2b-ee709581d666"
      },
      "execution_count": null,
      "outputs": [
        {
          "output_type": "stream",
          "name": "stdout",
          "text": [
            " \n",
            "0  \n",
            "0 1  \n",
            "0 1 2  \n",
            "0 1 2 3  \n",
            "0 1 2 3 4  \n",
            "0 1 2 3 4 5  \n",
            "0 1 2 3 4 5 6  \n",
            "0 1 2 3 4 5 6 7  \n",
            "0 1 2 3 4 5 6 7 8  \n"
          ]
        }
      ]
    },
    {
      "cell_type": "markdown",
      "source": [
        "#Pass\n",
        "In python when statement is required (after semicolon), but we don't like to execute any code there, we can write the word pass to avoid errors. Also we can use it as a placeholder, for future statements."
      ],
      "metadata": {
        "id": "Bc1_Kp7hA5K2"
      }
    },
    {
      "cell_type": "code",
      "source": [
        "for number in range(6):\n",
        "    pass"
      ],
      "metadata": {
        "id": "VMLbmbuBAOO9"
      },
      "execution_count": null,
      "outputs": []
    },
    {
      "cell_type": "markdown",
      "source": [
        "#Exercise Draw the Pattern\n"
      ],
      "metadata": {
        "id": "f-GkEb0xBWmO"
      }
    },
    {
      "cell_type": "code",
      "source": [
        "  #\n",
        "  ##\n",
        "  ###\n",
        "  ####\n",
        "  #####\n",
        "  ######\n",
        "  #######"
      ],
      "metadata": {
        "id": "HcK09soyBAbt"
      },
      "execution_count": null,
      "outputs": []
    },
    {
      "cell_type": "code",
      "source": [
        "# # # # # # # #\n",
        "# # # # # # # #\n",
        "# # # # # # # #\n",
        "# # # # # # # #\n",
        "# # # # # # # #\n",
        "# # # # # # # #\n",
        "# # # # # # # #\n",
        "# # # # # # # #"
      ],
      "metadata": {
        "id": "WHmiiKQhBdjz"
      },
      "execution_count": null,
      "outputs": []
    },
    {
      "cell_type": "code",
      "source": [],
      "metadata": {
        "id": "ZgnKuaAUUx4a"
      },
      "execution_count": null,
      "outputs": []
    },
    {
      "cell_type": "markdown",
      "source": [
        " Print Table of any number\n",
        "0 x 0 = 0\n",
        "\n",
        "1 x 1 = 1\n",
        "\n",
        "2 x 2 = 4\n",
        "\n",
        "3 x 3 = 9\n",
        "\n",
        "4 x 4 = 16\n",
        "\n",
        "5 x 5 = 25\n",
        "\n",
        "6 x 6 = 36\n",
        "\n",
        "7 x 7 = 49\n",
        "\n",
        "8 x 8 = 64\n",
        "\n",
        "9 x 9 = 81\n",
        "\n",
        "10 x 10 = 100"
      ],
      "metadata": {
        "id": "LdM1OONr2ii6"
      }
    },
    {
      "cell_type": "markdown",
      "source": [
        "Exercises: Level 2\n",
        "\n",
        "Use for loop to iterate from 0 to 100 and print the sum of all numbers.\n",
        "The sum of all numbers is 5050.\n",
        "\n",
        "Use for loop to iterate from 0 to 100 and print the sum of all evens and the sum of all odds.\n",
        "\n",
        "The sum of all evens is 2550. And the sum of all odds is 2500."
      ],
      "metadata": {
        "id": "qEZ28VQ-COGZ"
      }
    },
    {
      "cell_type": "markdown",
      "source": [
        "#Day 4"
      ],
      "metadata": {
        "id": "ETMfqejXAgx1"
      }
    },
    {
      "cell_type": "markdown",
      "source": [
        "#String and it's function"
      ],
      "metadata": {
        "id": "tLBVPdNc6x0W"
      }
    },
    {
      "cell_type": "code",
      "source": [
        "### Len Function\n",
        "# Single line comment\n",
        "letter = 'P'                # A string could be a single character or a bunch of texts\n",
        "print(letter)               # P\n",
        "print(len(letter))          # 1\n",
        "greeting = 'Hello, World!'  # String could be  a single or double quote,\"Hello, World!\"\n",
        "print(greeting)             # Hello, World!\n",
        "print(len(greeting))        # 13\n",
        "sentence = \"I hope you are enjoying 30 days of python challenge\"\n",
        "print(sentence)\n",
        "print(len(sentence))"
      ],
      "metadata": {
        "id": "HDlGHMwmCUdt",
        "colab": {
          "base_uri": "https://localhost:8080/"
        },
        "outputId": "606ed719-6565-4030-8cb9-c89222f39012"
      },
      "execution_count": null,
      "outputs": [
        {
          "output_type": "stream",
          "name": "stdout",
          "text": [
            "P\n",
            "1\n",
            "Hello, World!\n",
            "13\n",
            "I hope you are enjoying 30 days of python challenge\n",
            "51\n"
          ]
        }
      ]
    },
    {
      "cell_type": "code",
      "source": [
        "a = \" \"\n",
        "print(len(a))"
      ],
      "metadata": {
        "colab": {
          "base_uri": "https://localhost:8080/"
        },
        "id": "_-mZo8ZSVOWS",
        "outputId": "dfd1d895-9c3d-423c-fc67-b62a94127f89"
      },
      "execution_count": null,
      "outputs": [
        {
          "output_type": "stream",
          "name": "stdout",
          "text": [
            "1\n"
          ]
        }
      ]
    },
    {
      "cell_type": "code",
      "source": [
        "# Multiline String\n",
        "multiline_string = '''I am a teacher and enjoy teaching.\n",
        "I didn't find anything as rewarding as empowering people.\n",
        "That is why I created 30 days of python.'''\n",
        "print(multiline_string)"
      ],
      "metadata": {
        "colab": {
          "base_uri": "https://localhost:8080/"
        },
        "id": "heiGlhyC1qyD",
        "outputId": "d7abac9e-f1bb-4217-d801-89f10eaa40fd"
      },
      "execution_count": null,
      "outputs": [
        {
          "output_type": "stream",
          "name": "stdout",
          "text": [
            "I am a teacher and enjoy teaching.\n",
            "I didn't find anything as rewarding as empowering people.\n",
            "That is why I created 30 days of python.\n"
          ]
        }
      ]
    },
    {
      "cell_type": "code",
      "source": [
        "# String Concatenation\n",
        "first_name = 'Yash'\n",
        "last_name = 'Thavkar'\n",
        "space = ' '\n",
        "full_name = first_name  +  space + last_name\n",
        "print(full_name) "
      ],
      "metadata": {
        "colab": {
          "base_uri": "https://localhost:8080/"
        },
        "id": "TT2AhzIf3Kqs",
        "outputId": "eda7239a-6dc7-4591-9481-919e70fe22c2"
      },
      "execution_count": null,
      "outputs": [
        {
          "output_type": "stream",
          "name": "stdout",
          "text": [
            "Yash Thavkar\n"
          ]
        }
      ]
    },
    {
      "cell_type": "code",
      "source": [
        "# Checking length of a string using len() builtin function\n",
        "print(len(first_name))  # 8\n",
        "print(len(last_name))   # 7\n",
        "print(len(first_name) > len(last_name)) # True\n",
        "print(len(full_name)) # 15"
      ],
      "metadata": {
        "colab": {
          "base_uri": "https://localhost:8080/"
        },
        "id": "J7oeE_cz3ZCe",
        "outputId": "b753c9ca-3e1c-4af7-8328-710a8658a139"
      },
      "execution_count": null,
      "outputs": [
        {
          "output_type": "stream",
          "name": "stdout",
          "text": [
            "4\n",
            "7\n",
            "False\n",
            "12\n"
          ]
        }
      ]
    },
    {
      "cell_type": "code",
      "source": [
        "#### Unpacking characters \n",
        "language = 'Python'\n",
        "a,b,c,d,e,f = language # unpacking sequence characters into variables\n",
        "print(a) # P\n",
        "print(b) # y\n",
        "print(c) # t \n",
        "print(d) # h\n",
        "print(e) # o\n",
        "print(f) # n"
      ],
      "metadata": {
        "colab": {
          "base_uri": "https://localhost:8080/"
        },
        "id": "5tcwNHKH3eoR",
        "outputId": "2719365f-9b80-45f4-9edb-3a4fa69de957"
      },
      "execution_count": null,
      "outputs": [
        {
          "output_type": "stream",
          "name": "stdout",
          "text": [
            "P\n",
            "y\n",
            "t\n",
            "h\n",
            "o\n",
            "n\n"
          ]
        }
      ]
    },
    {
      "cell_type": "code",
      "source": [
        "# Accessing characters in strings by index\n",
        "language = 'Python'\n",
        "first_letter = language[4]\n",
        "print(first_letter) # P\n",
        "second_letter = language[1]\n",
        "print(second_letter) # y\n",
        "last_index = len(language) - 1\n",
        "last_letter = language[last_index]\n",
        "print(last_letter) # n"
      ],
      "metadata": {
        "colab": {
          "base_uri": "https://localhost:8080/"
        },
        "id": "TiLS4s153pMr",
        "outputId": "3515fc8b-573e-4e1a-90f9-264dc523f346"
      },
      "execution_count": null,
      "outputs": [
        {
          "output_type": "stream",
          "name": "stdout",
          "text": [
            "o\n",
            "y\n",
            "n\n"
          ]
        }
      ]
    },
    {
      "cell_type": "code",
      "source": [
        "# Negative Indexing \n",
        "language = 'Python'\n",
        "last_letter = language[-1]\n",
        "print(last_letter) # n\n",
        "second_last = language[-2]\n",
        "print(second_last) # o"
      ],
      "metadata": {
        "colab": {
          "base_uri": "https://localhost:8080/"
        },
        "id": "Zj6wc_nY3uLg",
        "outputId": "8eed462b-3dca-4035-d1ee-5a6867767da7"
      },
      "execution_count": null,
      "outputs": [
        {
          "output_type": "stream",
          "name": "stdout",
          "text": [
            "n\n",
            "o\n"
          ]
        }
      ]
    },
    {
      "cell_type": "code",
      "source": [
        "# Slicing\n",
        "language = 'Python'\n",
        "first_three = language[0:3] # starts at zero index and up to 3 but not include 3\n",
        "last_three = language[3:6]\n",
        "print(first_three)\n",
        "print(last_three) # hon\n",
        "# Another way\n",
        "last_three = language[-3:]\n",
        "print(last_three)   # hon\n",
        "first_three = language[:3]\n",
        "print(first_three)   # hon"
      ],
      "metadata": {
        "colab": {
          "base_uri": "https://localhost:8080/"
        },
        "id": "i7XTJZy_3zUv",
        "outputId": "7dfe5cc7-d135-4bc9-ef22-d7fea811429d"
      },
      "execution_count": null,
      "outputs": [
        {
          "output_type": "stream",
          "name": "stdout",
          "text": [
            "Pyt\n",
            "hon\n",
            "hon\n",
            "Pyt\n"
          ]
        }
      ]
    },
    {
      "cell_type": "code",
      "source": [
        "# Skipping character while splitting Python strings\n",
        "language = 'Python'\n",
        "pto = language[0:6:2] # \n",
        "print(pto) # pto"
      ],
      "metadata": {
        "colab": {
          "base_uri": "https://localhost:8080/"
        },
        "id": "cItCGlCK4NsV",
        "outputId": "29239f3c-ec02-4bdf-8c32-b4e015ee3f42"
      },
      "execution_count": null,
      "outputs": [
        {
          "output_type": "stream",
          "name": "stdout",
          "text": [
            "Pto\n"
          ]
        }
      ]
    },
    {
      "cell_type": "code",
      "source": [
        "print(language[::-1])"
      ],
      "metadata": {
        "colab": {
          "base_uri": "https://localhost:8080/"
        },
        "id": "lKSq5WqyZQ8x",
        "outputId": "3174c273-c124-4e6e-8240-9c69619419ee"
      },
      "execution_count": null,
      "outputs": [
        {
          "output_type": "stream",
          "name": "stdout",
          "text": [
            "nohtyP\n"
          ]
        }
      ]
    },
    {
      "cell_type": "code",
      "source": [
        "## String Methods\n",
        "# capitalize(): Converts the first character the string to Capital Letter\n",
        "challenge = 'thirty days of python'\n",
        "print(challenge.capitalize()) # 'Thirty days of python'"
      ],
      "metadata": {
        "colab": {
          "base_uri": "https://localhost:8080/"
        },
        "id": "7C2hU38r4Qpf",
        "outputId": "390f4e58-7796-454e-cb11-894a9f533c24"
      },
      "execution_count": null,
      "outputs": [
        {
          "output_type": "stream",
          "name": "stdout",
          "text": [
            "Thirty days of python\n"
          ]
        }
      ]
    },
    {
      "cell_type": "code",
      "source": [
        "# title function\n",
        "print(challenge.title())"
      ],
      "metadata": {
        "colab": {
          "base_uri": "https://localhost:8080/"
        },
        "id": "CJ60djT_4fKv",
        "outputId": "8572d5dc-5154-4928-d00d-0be97b1eec09"
      },
      "execution_count": null,
      "outputs": [
        {
          "output_type": "stream",
          "name": "stdout",
          "text": [
            "Thirty Days Of Python\n"
          ]
        }
      ]
    },
    {
      "cell_type": "code",
      "source": [
        "# count(): returns occurrences of substring in string, count(substring, start=.., end=..)\n",
        "\n",
        "challenge = 'thirty days of python'\n",
        "print(challenge.count('y')) # 3\n",
        "print(challenge.count('y', 7, 14)) # 1\n",
        "print(challenge.count('th')) # 2`"
      ],
      "metadata": {
        "colab": {
          "base_uri": "https://localhost:8080/"
        },
        "id": "S8_L8_zd4l6C",
        "outputId": "7e13f10f-6f2d-4d2e-f84a-2dae2add5359"
      },
      "execution_count": null,
      "outputs": [
        {
          "output_type": "stream",
          "name": "stdout",
          "text": [
            "3\n",
            "1\n",
            "2\n"
          ]
        }
      ]
    },
    {
      "cell_type": "code",
      "source": [
        "# swapcase(): Checks if String Starts with the Specified String\n",
        "  \n",
        "challenge = 'thirty days of python'\n",
        "print(challenge.swapcase())   # THIRTY DAYS OF PYTHON\n",
        "challenge = 'Thirty Days Of Python'\n",
        "print(challenge.swapcase())  # tHIRTY dAYS oF pYTHON"
      ],
      "metadata": {
        "colab": {
          "base_uri": "https://localhost:8080/"
        },
        "id": "8n0ZNBdA4q3I",
        "outputId": "5e376b5d-f7de-45fa-ca96-4ee346531f1b"
      },
      "execution_count": null,
      "outputs": [
        {
          "output_type": "stream",
          "name": "stdout",
          "text": [
            "THIRTY DAYS OF PYTHON\n",
            "tHIRTY dAYS oF pYTHON\n"
          ]
        }
      ]
    },
    {
      "cell_type": "code",
      "source": [
        "# split():Splits String from Left\n",
        "\n",
        "challenge = 'thirty days of python'\n",
        "print(challenge.split(\" \")) # ['thirty', 'days', 'of', 'python']"
      ],
      "metadata": {
        "colab": {
          "base_uri": "https://localhost:8080/"
        },
        "id": "SVPii4s65AFl",
        "outputId": "5642936b-d960-409f-9bd6-f7e371100836"
      },
      "execution_count": null,
      "outputs": [
        {
          "output_type": "stream",
          "name": "stdout",
          "text": [
            "['thirty', 'days', 'of', 'python']\n"
          ]
        }
      ]
    },
    {
      "cell_type": "code",
      "source": [
        "print(challenge.upper())"
      ],
      "metadata": {
        "colab": {
          "base_uri": "https://localhost:8080/"
        },
        "id": "zUPI1vigaQWV",
        "outputId": "ff2c8f6f-ce11-41cc-db4b-5c21aa3045a2"
      },
      "execution_count": null,
      "outputs": [
        {
          "output_type": "stream",
          "name": "stdout",
          "text": [
            "THIRTY DAYS OF PYTHON\n"
          ]
        }
      ]
    },
    {
      "cell_type": "code",
      "source": [
        "# replace(): Replaces substring inside\n",
        "\n",
        "challenge = 'thirty days of python'\n",
        "print(challenge.replace('python', 'coding')) # 'thirty days of coding'"
      ],
      "metadata": {
        "colab": {
          "base_uri": "https://localhost:8080/"
        },
        "id": "ExCmpphG5LJ0",
        "outputId": "8407f8fa-0f1f-4092-d6e5-eeb163ad3fff"
      },
      "execution_count": null,
      "outputs": [
        {
          "output_type": "stream",
          "name": "stdout",
          "text": [
            "thirty days of coding\n"
          ]
        }
      ]
    },
    {
      "cell_type": "code",
      "source": [
        "# join(): Returns a concatenated string\n",
        "\n",
        "web_tech = ['HTML', 'CSS', 'JavaScript', 'React']\n",
        "result = ', '.join(web_tech)\n",
        "print(result) "
      ],
      "metadata": {
        "colab": {
          "base_uri": "https://localhost:8080/"
        },
        "id": "RDDY5rR05i_h",
        "outputId": "58bbedce-dc77-4820-bb80-ca0265a8b860"
      },
      "execution_count": null,
      "outputs": [
        {
          "output_type": "stream",
          "name": "stdout",
          "text": [
            "HTML, CSS, JavaScript, React\n"
          ]
        }
      ]
    },
    {
      "cell_type": "code",
      "source": [
        "# isdigit(): Checks Digit Characters\n",
        "\n",
        "# isdigit(): Checks Digit Characters\n",
        "\n",
        "challenge = 'Thirty'\n",
        "print(challenge.isdigit()) # False\n",
        "challenge = '30'\n",
        "print(challenge.isdigit())   # True "
      ],
      "metadata": {
        "colab": {
          "base_uri": "https://localhost:8080/"
        },
        "id": "YDK6V01r5mf5",
        "outputId": "b57aba5e-b539-4317-d53f-fd3d1dbf5011"
      },
      "execution_count": null,
      "outputs": [
        {
          "output_type": "stream",
          "name": "stdout",
          "text": [
            "False\n",
            "True\n"
          ]
        }
      ]
    },
    {
      "cell_type": "code",
      "source": [
        "### Find and index both functions gives you position of that alphabet\n",
        "challenge = 'thirty days of python'\n",
        "print(challenge.find('y'))  # 5\n",
        "print(challenge.index('y'))\n",
        "print(challenge.find('th')) # 0\n",
        "print(challenge.index('th'))"
      ],
      "metadata": {
        "colab": {
          "base_uri": "https://localhost:8080/"
        },
        "id": "YNIdYPEa6C8_",
        "outputId": "0c2a9592-234b-4466-8da1-0faf263ba64a"
      },
      "execution_count": null,
      "outputs": [
        {
          "output_type": "stream",
          "name": "stdout",
          "text": [
            "5\n",
            "5\n",
            "0\n",
            "0\n"
          ]
        }
      ]
    },
    {
      "cell_type": "markdown",
      "source": [
        "#List and it's function"
      ],
      "metadata": {
        "id": "OnK1BZem7G2y"
      }
    },
    {
      "cell_type": "code",
      "source": [
        "# creating empty list\n",
        "lst = []\n",
        "empty_list = list() # this is an empty list, no item in the list\n",
        "print(len(empty_list))\n",
        "print(len(lst))"
      ],
      "metadata": {
        "colab": {
          "base_uri": "https://localhost:8080/"
        },
        "id": "SoagWRCX6WEQ",
        "outputId": "0baa455d-68b0-4474-d06e-f0ba4504dd37"
      },
      "execution_count": null,
      "outputs": [
        {
          "output_type": "stream",
          "name": "stdout",
          "text": [
            "0\n",
            "0\n"
          ]
        }
      ]
    },
    {
      "cell_type": "code",
      "source": [
        "# Len function in list\n",
        "fruits = ['banana', 'orange', 'mango', 'lemon']                     # list of fruits\n",
        "vegetables = ['Tomato', 'Potato', 'Cabbage','Onion', 'Carrot']      # list of vegetables\n",
        "animal_products = ['milk', 'meat', 'butter', 'yoghurt']             # list of animal products\n",
        "web_techs = ['HTML', 'CSS', 'JS', 'React','Redux', 'Node', 'MongDB'] # list of web technologies\n",
        "countries = ['Finland', 'Estonia', 'Denmark', 'Sweden', 'Norway']\n",
        "\n",
        "# Print the lists and it length\n",
        "print('Fruits:', fruits)\n",
        "print('Number of fruits:', len(fruits))\n",
        "print('Vegetables:', vegetables)\n",
        "print('Number of vegetables:', len(vegetables))\n",
        "print('Animal products:',animal_products)\n",
        "print('Number of animal products:', len(animal_products))\n",
        "print('Web technologies:', web_techs)\n",
        "print('Number of web technologies:', len(web_techs))\n",
        "print('Number of countries:', len(countries))"
      ],
      "metadata": {
        "colab": {
          "base_uri": "https://localhost:8080/"
        },
        "id": "l-N1j3L77Nbm",
        "outputId": "7b92e9ac-240e-4540-eb4a-79b750abcade"
      },
      "execution_count": null,
      "outputs": [
        {
          "output_type": "stream",
          "name": "stdout",
          "text": [
            "Fruits: ['banana', 'orange', 'mango', 'lemon']\n",
            "Number of fruits: 4\n",
            "Vegetables: ['Tomato', 'Potato', 'Cabbage', 'Onion', 'Carrot']\n",
            "Number of vegetables: 5\n",
            "Animal products: ['milk', 'meat', 'butter', 'yoghurt']\n",
            "Number of animal products: 4\n",
            "Web technologies: ['HTML', 'CSS', 'JS', 'React', 'Redux', 'Node', 'MongDB']\n",
            "Number of web technologies: 7\n",
            "Number of countries: 5\n"
          ]
        }
      ]
    },
    {
      "cell_type": "code",
      "source": [
        "# Modifying list\n",
        "# Positive Indexing\n",
        "fruits = ['banana', 'orange', 'mango', 'lemon'] \n",
        "first_fruit = fruits[0] # we are accessing the first item using its index\n",
        "print(first_fruit)      # banana\n",
        "second_fruit = fruits[1]\n",
        "print(second_fruit)     # orange\n",
        "last_fruit = fruits[3]\n",
        "print(last_fruit) # lemon\n",
        "# Last index\n",
        "last_index = len(fruits) - 1\n",
        "last_fruit = fruits[last_index]"
      ],
      "metadata": {
        "colab": {
          "base_uri": "https://localhost:8080/"
        },
        "id": "gtrCgwGO7e9g",
        "outputId": "a7669d59-73a7-463f-db35-3fefccc73105"
      },
      "execution_count": null,
      "outputs": [
        {
          "output_type": "stream",
          "name": "stdout",
          "text": [
            "banana\n",
            "orange\n",
            "lemon\n"
          ]
        }
      ]
    },
    {
      "cell_type": "code",
      "source": [
        "# Accessing items\n",
        "# Negative indexing \n",
        "fruits = ['banana', 'orange', 'mango', 'lemon'] \n",
        "last_fruit = fruits[-1]\n",
        "second_last = fruits[-2]\n",
        "print(last_fruit)       \n",
        "print(second_last)      "
      ],
      "metadata": {
        "colab": {
          "base_uri": "https://localhost:8080/"
        },
        "id": "kcZNdlxg7mHv",
        "outputId": "2ac11dfa-232f-416c-abc5-04be9bf69157"
      },
      "execution_count": null,
      "outputs": [
        {
          "output_type": "stream",
          "name": "stdout",
          "text": [
            "lemon\n",
            "mango\n"
          ]
        }
      ]
    },
    {
      "cell_type": "code",
      "source": [
        "# Slicing items\n",
        "fruits = ['banana', 'orange', 'mango', 'lemon'] \n",
        "all_fruits = fruits[0:4] # it returns all the fruits\n",
        "# this is also give the same result as the above\n",
        "all_fruits = fruits[0:] # if we don't set where to stop it takes all the rest\n",
        "orange_and_mango = fruits[1:3] # it does not include the end index\n",
        "orange_mango_lemon = fruits[1:]\n",
        "print(all_fruits)\n",
        "print(orange_and_mango)\n",
        "print(orange_mango_lemon)"
      ],
      "metadata": {
        "colab": {
          "base_uri": "https://localhost:8080/"
        },
        "id": "2X4midqs7_xs",
        "outputId": "4803b7c3-8b1b-48d3-cda5-cdcbcacdd871"
      },
      "execution_count": null,
      "outputs": [
        {
          "output_type": "stream",
          "name": "stdout",
          "text": [
            "['banana', 'orange', 'mango', 'lemon']\n",
            "['orange', 'mango']\n",
            "['orange', 'mango', 'lemon']\n"
          ]
        }
      ]
    },
    {
      "cell_type": "code",
      "source": [
        "fruits = ['banana', 'orange', 'mango', 'lemon'] \n",
        "fruits[2:]"
      ],
      "metadata": {
        "colab": {
          "base_uri": "https://localhost:8080/"
        },
        "id": "YLlE_r6pc5nf",
        "outputId": "983fe494-df3e-4ee1-92b5-054f39010c60"
      },
      "execution_count": null,
      "outputs": [
        {
          "output_type": "execute_result",
          "data": {
            "text/plain": [
              "['mango', 'lemon']"
            ]
          },
          "metadata": {},
          "execution_count": 27
        }
      ]
    },
    {
      "cell_type": "code",
      "source": [
        "fruits = ['banana', 'orange', 'mango', 'lemon'] \n",
        "all_fruits = fruits[-4:] # it returns all the fruits\n",
        "# this is also give the same result as the above\n",
        "orange_and_mango = fruits[-3:-1] # it does not include the end index\n",
        "orange_mango_lemon = fruits[-3:]\n",
        "print(all_fruits)\n",
        "print(orange_and_mango)\n",
        "print(orange_mango_lemon)"
      ],
      "metadata": {
        "colab": {
          "base_uri": "https://localhost:8080/"
        },
        "id": "YF_UqHkq7_6H",
        "outputId": "08c56d3e-4054-4994-c7ce-f96d5b10fa8e"
      },
      "execution_count": null,
      "outputs": [
        {
          "output_type": "stream",
          "name": "stdout",
          "text": [
            "['banana', 'orange', 'mango', 'lemon']\n",
            "['orange', 'mango']\n",
            "['orange', 'mango', 'lemon']\n"
          ]
        }
      ]
    },
    {
      "cell_type": "code",
      "source": [
        "# Adding or inserting without function\n",
        "fruits = ['banana', 'orange', 'mango', 'lemon'] \n",
        "fruits[0] = 'Avocado' \n",
        "print(fruits)       #  ['avocado', 'orange', 'mango', 'lemon']\n",
        "fruits[1] = 'apple'\n",
        "print(fruits)       #  ['avocado', 'apple', 'mango', 'lemon']\n",
        "last_index = len(fruits) - 1\n",
        "fruits[last_index] = 'lime'\n",
        "print(fruits) "
      ],
      "metadata": {
        "colab": {
          "base_uri": "https://localhost:8080/"
        },
        "id": "1XkOfqNf8aX6",
        "outputId": "c5ccb96b-1778-4764-ea51-5277879ea2b5"
      },
      "execution_count": null,
      "outputs": [
        {
          "output_type": "stream",
          "name": "stdout",
          "text": [
            "['Avocado', 'orange', 'mango', 'lemon']\n",
            "['Avocado', 'apple', 'mango', 'lemon']\n",
            "['Avocado', 'apple', 'mango', 'lime']\n"
          ]
        }
      ]
    },
    {
      "cell_type": "code",
      "source": [
        "# checking items\n",
        "fruits = ['banana', 'orange', 'mango', 'lemon']\n",
        "does_exist = 'banana' in fruits\n",
        "print(does_exist)  # True\n",
        "does_exist = 'lime' in fruits\n",
        "print(does_exist)  # False"
      ],
      "metadata": {
        "colab": {
          "base_uri": "https://localhost:8080/"
        },
        "id": "KegnyUDB8ix5",
        "outputId": "cc3dd333-fcba-4d4b-e314-85cc94460a5d"
      },
      "execution_count": null,
      "outputs": [
        {
          "output_type": "stream",
          "name": "stdout",
          "text": [
            "True\n",
            "False\n"
          ]
        }
      ]
    },
    {
      "cell_type": "code",
      "source": [
        "# Append\n",
        "fruits = ['banana', 'orange', 'mango', 'lemon']\n",
        "fruits.append('apple')\n",
        "print(fruits)           # ['banana', 'orange', 'mango', 'lemon', 'apple']\n",
        "fruits.append('lime')   # ['banana', 'orange', 'mango', 'lemon', 'apple', 'lime]\n",
        "print(fruits)"
      ],
      "metadata": {
        "colab": {
          "base_uri": "https://localhost:8080/"
        },
        "id": "co4u-hp78lyo",
        "outputId": "0369f8c0-1c21-417c-ef87-181e9d56f9cd"
      },
      "execution_count": null,
      "outputs": [
        {
          "output_type": "stream",
          "name": "stdout",
          "text": [
            "['banana', 'orange', 'mango', 'lemon', 'apple']\n",
            "['banana', 'orange', 'mango', 'lemon', 'apple', 'lime']\n"
          ]
        }
      ]
    },
    {
      "cell_type": "code",
      "source": [
        "from google.colab import drive\n",
        "drive.mount('/content/drive')"
      ],
      "metadata": {
        "colab": {
          "base_uri": "https://localhost:8080/"
        },
        "id": "AoWB-zDUemzM",
        "outputId": "cb6a2584-8d81-4b15-d6a1-59aed36aeec7"
      },
      "execution_count": null,
      "outputs": [
        {
          "output_type": "stream",
          "name": "stdout",
          "text": [
            "Mounted at /content/drive\n"
          ]
        }
      ]
    },
    {
      "cell_type": "code",
      "source": [
        "# insert\n",
        "fruits = ['banana', 'orange', 'mango', 'lemon']\n",
        "fruits.insert(2, 'apple') # insert apple between orange and mango\n",
        "print(fruits)           # ['banana', 'orange', 'apple', 'mango', 'lemon']\n",
        "fruits.insert(3, 'lime')   # ['banana', 'orange', 'apple', 'mango', 'lime','lemon',]\n",
        "print(fruits)"
      ],
      "metadata": {
        "colab": {
          "base_uri": "https://localhost:8080/"
        },
        "id": "XfvMYqIV8oHR",
        "outputId": "04d66433-265e-41d8-832a-a60c8cfca011"
      },
      "execution_count": null,
      "outputs": [
        {
          "output_type": "stream",
          "name": "stdout",
          "text": [
            "['banana', 'orange', 'apple', 'mango', 'lemon']\n",
            "['banana', 'orange', 'apple', 'lime', 'mango', 'lemon']\n"
          ]
        }
      ]
    },
    {
      "cell_type": "code",
      "source": [
        "# remove\n",
        "fruits = ['banana', 'orange', 'mango', 'lemon']\n",
        "fruits.remove('banana')\n",
        "print(fruits)  # ['orange', 'mango', 'lemon']\n",
        "fruits.remove('lemon')\n",
        "print(fruits)  # ['orange', 'mango']"
      ],
      "metadata": {
        "colab": {
          "base_uri": "https://localhost:8080/"
        },
        "id": "ZoIRLNBg8rXz",
        "outputId": "2626fdb6-940f-4929-c47a-f067fe5a9436"
      },
      "execution_count": null,
      "outputs": [
        {
          "output_type": "stream",
          "name": "stdout",
          "text": [
            "['orange', 'mango', 'lemon']\n",
            "['orange', 'mango']\n"
          ]
        }
      ]
    },
    {
      "cell_type": "code",
      "source": [
        "# pop\n",
        "fruits = ['banana', 'orange', 'mango', 'lemon']\n",
        "fruits.pop()     \n",
        "print(fruits)       # ['banana', 'orange', 'mango']\n"
      ],
      "metadata": {
        "colab": {
          "base_uri": "https://localhost:8080/"
        },
        "id": "pp1cBRA48tDW",
        "outputId": "ea69b638-90a2-425b-9c9d-62f33c377a91"
      },
      "execution_count": null,
      "outputs": [
        {
          "output_type": "stream",
          "name": "stdout",
          "text": [
            "['banana', 'orange', 'mango']\n"
          ]
        }
      ]
    },
    {
      "cell_type": "code",
      "source": [
        "# del \n",
        "fruits = ['banana', 'orange', 'mango', 'lemon']\n",
        "del fruits[0]     \n",
        "print(fruits)       # ['orange', 'mango', 'lemon']\n",
        "\n",
        "del fruits[1]     \n",
        "print(fruits)       # ['orange', 'lemon']\n",
        "del fruits\n",
        "print(fruits)      "
      ],
      "metadata": {
        "colab": {
          "base_uri": "https://localhost:8080/",
          "height": 235
        },
        "id": "IbDja4oa8wYE",
        "outputId": "831b6ceb-e90e-466b-aec0-577fe5ae396d"
      },
      "execution_count": null,
      "outputs": [
        {
          "output_type": "stream",
          "name": "stdout",
          "text": [
            "['orange', 'mango', 'lemon']\n",
            "['orange', 'lemon']\n"
          ]
        },
        {
          "output_type": "error",
          "ename": "NameError",
          "evalue": "ignored",
          "traceback": [
            "\u001b[0;31m---------------------------------------------------------------------------\u001b[0m",
            "\u001b[0;31mNameError\u001b[0m                                 Traceback (most recent call last)",
            "\u001b[0;32m<ipython-input-52-234b857376c5>\u001b[0m in \u001b[0;36m<module>\u001b[0;34m\u001b[0m\n\u001b[1;32m      7\u001b[0m \u001b[0mprint\u001b[0m\u001b[0;34m(\u001b[0m\u001b[0mfruits\u001b[0m\u001b[0;34m)\u001b[0m       \u001b[0;31m# ['orange', 'lemon']\u001b[0m\u001b[0;34m\u001b[0m\u001b[0;34m\u001b[0m\u001b[0m\n\u001b[1;32m      8\u001b[0m \u001b[0;32mdel\u001b[0m \u001b[0mfruits\u001b[0m\u001b[0;34m\u001b[0m\u001b[0;34m\u001b[0m\u001b[0m\n\u001b[0;32m----> 9\u001b[0;31m \u001b[0mprint\u001b[0m\u001b[0;34m(\u001b[0m\u001b[0mfruits\u001b[0m\u001b[0;34m)\u001b[0m       \u001b[0;31m# This should give: NameError: name 'fruits' is not defined\u001b[0m\u001b[0;34m\u001b[0m\u001b[0;34m\u001b[0m\u001b[0m\n\u001b[0m",
            "\u001b[0;31mNameError\u001b[0m: name 'fruits' is not defined"
          ]
        }
      ]
    },
    {
      "cell_type": "code",
      "source": [
        "# clear\n",
        "fruits = ['banana', 'orange', 'mango', 'lemon']\n",
        "fruits.clear()     \n",
        "print(fruits)  "
      ],
      "metadata": {
        "colab": {
          "base_uri": "https://localhost:8080/"
        },
        "id": "CB5mMnl-84Ed",
        "outputId": "73103e88-c4f5-4c0d-8d09-0cd560f51e91"
      },
      "execution_count": null,
      "outputs": [
        {
          "output_type": "stream",
          "name": "stdout",
          "text": [
            "[]\n"
          ]
        }
      ]
    },
    {
      "cell_type": "code",
      "source": [
        "# copying a lits\n",
        "\n",
        "fruits = ['banana', 'orange', 'mango', 'lemon']\n",
        "fruits_copy = fruits.copy()     \n",
        "print(fruits_copy) "
      ],
      "metadata": {
        "colab": {
          "base_uri": "https://localhost:8080/"
        },
        "id": "Npgyg8mL86yj",
        "outputId": "e563774f-f3ba-4bb0-803c-c61511d387a9"
      },
      "execution_count": null,
      "outputs": [
        {
          "output_type": "stream",
          "name": "stdout",
          "text": [
            "['banana', 'orange', 'mango', 'lemon']\n"
          ]
        }
      ]
    },
    {
      "cell_type": "code",
      "source": [
        "# join\n",
        "positive_numbers = [1, 2, 3,4,5]\n",
        "zero = [0]\n",
        "negative_numbers = [-5,-4,-3,-2,-1]\n",
        "integers = negative_numbers + zero + positive_numbers\n",
        "print(integers)\n",
        "fruits = ['banana', 'orange', 'mango', 'lemon']\n",
        "vegetables = ['Tomato', 'Potato', 'Cabbage','Onion', 'Carrot'] \n",
        "fruits_and_vegetables = fruits + vegetables\n",
        "print(fruits_and_vegetables )"
      ],
      "metadata": {
        "colab": {
          "base_uri": "https://localhost:8080/"
        },
        "id": "9nYn-jzy89I0",
        "outputId": "f9933db2-d6fd-4df9-a39a-5c2ac7a1e87e"
      },
      "execution_count": null,
      "outputs": [
        {
          "output_type": "stream",
          "name": "stdout",
          "text": [
            "[-5, -4, -3, -2, -1, 0, 1, 2, 3, 4, 5]\n",
            "['banana', 'orange', 'mango', 'lemon', 'Tomato', 'Potato', 'Cabbage', 'Onion', 'Carrot']\n"
          ]
        }
      ]
    },
    {
      "cell_type": "code",
      "source": [
        "# join with extend\n",
        "num1 = [0, 1, 2, 3]\n",
        "num2= [4, 5,6]\n",
        "num1.extend(num2)\n",
        "print('Numbers:', num1)\n",
        "negative_numbers = [-5,-4,-3,-2,-1]\n",
        "positive_numbers = [1, 2, 3,4,5]\n",
        "zero = [0]\n",
        "\n",
        "negative_numbers.extend(zero)\n",
        "negative_numbers.extend(positive_numbers)\n",
        "print('Integers:', negative_numbers)\n",
        "fruits = ['banana', 'orange', 'mango', 'lemon']\n",
        "vegetables = ['Tomato', 'Potato', 'Cabbage','Onion', 'Carrot'] \n",
        "fruits.extend(vegetables)\n",
        "print('Fruits and vegetables:', fruits )"
      ],
      "metadata": {
        "colab": {
          "base_uri": "https://localhost:8080/"
        },
        "id": "lYqlY1AG9B33",
        "outputId": "1e6a147f-f578-41c8-9156-4c051b971283"
      },
      "execution_count": null,
      "outputs": [
        {
          "output_type": "stream",
          "name": "stdout",
          "text": [
            "Numbers: [0, 1, 2, 3, 4, 5, 6]\n",
            "Integers: [-5, -4, -3, -2, -1, 0, 1, 2, 3, 4, 5]\n",
            "Fruits and vegetables: ['banana', 'orange', 'mango', 'lemon', 'Tomato', 'Potato', 'Cabbage', 'Onion', 'Carrot']\n"
          ]
        }
      ]
    },
    {
      "cell_type": "code",
      "source": [
        "# count\n",
        "fruits = ['banana', 'orange', 'mango', 'lemon']\n",
        "print(fruits.count('orange'))   # 1\n",
        "ages = [22, 19, 24, 25, 26, 24, 25, 24]\n",
        "print(ages.count(24))"
      ],
      "metadata": {
        "colab": {
          "base_uri": "https://localhost:8080/"
        },
        "id": "K-YnzQix9GyD",
        "outputId": "b133839c-2c24-4afc-f769-5e6ca687ce47"
      },
      "execution_count": null,
      "outputs": [
        {
          "output_type": "stream",
          "name": "stdout",
          "text": [
            "1\n",
            "3\n"
          ]
        }
      ]
    },
    {
      "cell_type": "code",
      "source": [
        "# index\n",
        "fruits = ['banana', 'orange', 'mango', 'lemon']\n",
        "print(fruits.index('orange'))   # 1\n",
        "ages = [22, 19, 24, 25, 26, 24, 25, 24]\n",
        "print(ages.index(24)) "
      ],
      "metadata": {
        "colab": {
          "base_uri": "https://localhost:8080/"
        },
        "id": "hgZLb2in9LNG",
        "outputId": "b3d27d40-0b41-4a39-9c90-261c80c97823"
      },
      "execution_count": null,
      "outputs": [
        {
          "output_type": "stream",
          "name": "stdout",
          "text": [
            "1\n",
            "2\n"
          ]
        }
      ]
    },
    {
      "cell_type": "code",
      "source": [
        "# Reverse\n",
        "fruits = ['banana', 'orange', 'mango', 'lemon']\n",
        "fruits.reverse()\n",
        "print(fruits)  \n",
        "ages = [22, 19, 24, 25, 26, 24, 25, 24]\n",
        "ages.reverse()\n",
        "print(ages) "
      ],
      "metadata": {
        "colab": {
          "base_uri": "https://localhost:8080/"
        },
        "id": "upCmELIx9N7C",
        "outputId": "4eefd48f-ebf1-42a4-d8fa-e59d1798dcaa"
      },
      "execution_count": null,
      "outputs": [
        {
          "output_type": "stream",
          "name": "stdout",
          "text": [
            "['lemon', 'mango', 'orange', 'banana']\n",
            "[24, 25, 24, 26, 25, 24, 19, 22]\n"
          ]
        }
      ]
    },
    {
      "cell_type": "code",
      "source": [
        "# sort\n",
        "fruits = ['banana', 'orange', 'mango', 'lemon']\n",
        "fruits.sort()\n",
        "print(fruits) \n",
        "fruits.sort(reverse=True)\n",
        "print(fruits)\n",
        "ages = [22, 19, 24, 25, 26, 24, 25, 24]\n",
        "ages.sort()\n",
        "print(ages) \n",
        "ages.sort(reverse=True)\n",
        "print(ages) "
      ],
      "metadata": {
        "colab": {
          "base_uri": "https://localhost:8080/"
        },
        "id": "uFYqbzrE9TWo",
        "outputId": "c41706ca-4da3-42b1-bb41-9a26a1b761fe"
      },
      "execution_count": null,
      "outputs": [
        {
          "output_type": "stream",
          "name": "stdout",
          "text": [
            "['banana', 'lemon', 'mango', 'orange']\n",
            "['orange', 'mango', 'lemon', 'banana']\n",
            "[19, 22, 24, 24, 24, 25, 25, 26]\n",
            "[26, 25, 25, 24, 24, 24, 22, 19]\n"
          ]
        }
      ]
    },
    {
      "cell_type": "markdown",
      "source": [
        "#Tuple and it's function"
      ],
      "metadata": {
        "id": "DPewjCYc9Ymr"
      }
    },
    {
      "cell_type": "code",
      "source": [
        "from google.colab import files\n",
        "up = files.upload()"
      ],
      "metadata": {
        "id": "7KPUHF5jfTZv",
        "colab": {
          "base_uri": "https://localhost:8080/",
          "height": 73
        },
        "outputId": "14477e4d-6030-48bd-b32a-3d88f976442a"
      },
      "execution_count": null,
      "outputs": [
        {
          "output_type": "display_data",
          "data": {
            "text/plain": [
              "<IPython.core.display.HTML object>"
            ],
            "text/html": [
              "\n",
              "     <input type=\"file\" id=\"files-4ca4531f-b7ca-4260-b2fe-547e1f3df2c1\" name=\"files[]\" multiple disabled\n",
              "        style=\"border:none\" />\n",
              "     <output id=\"result-4ca4531f-b7ca-4260-b2fe-547e1f3df2c1\">\n",
              "      Upload widget is only available when the cell has been executed in the\n",
              "      current browser session. Please rerun this cell to enable.\n",
              "      </output>\n",
              "      <script>// Copyright 2017 Google LLC\n",
              "//\n",
              "// Licensed under the Apache License, Version 2.0 (the \"License\");\n",
              "// you may not use this file except in compliance with the License.\n",
              "// You may obtain a copy of the License at\n",
              "//\n",
              "//      http://www.apache.org/licenses/LICENSE-2.0\n",
              "//\n",
              "// Unless required by applicable law or agreed to in writing, software\n",
              "// distributed under the License is distributed on an \"AS IS\" BASIS,\n",
              "// WITHOUT WARRANTIES OR CONDITIONS OF ANY KIND, either express or implied.\n",
              "// See the License for the specific language governing permissions and\n",
              "// limitations under the License.\n",
              "\n",
              "/**\n",
              " * @fileoverview Helpers for google.colab Python module.\n",
              " */\n",
              "(function(scope) {\n",
              "function span(text, styleAttributes = {}) {\n",
              "  const element = document.createElement('span');\n",
              "  element.textContent = text;\n",
              "  for (const key of Object.keys(styleAttributes)) {\n",
              "    element.style[key] = styleAttributes[key];\n",
              "  }\n",
              "  return element;\n",
              "}\n",
              "\n",
              "// Max number of bytes which will be uploaded at a time.\n",
              "const MAX_PAYLOAD_SIZE = 100 * 1024;\n",
              "\n",
              "function _uploadFiles(inputId, outputId) {\n",
              "  const steps = uploadFilesStep(inputId, outputId);\n",
              "  const outputElement = document.getElementById(outputId);\n",
              "  // Cache steps on the outputElement to make it available for the next call\n",
              "  // to uploadFilesContinue from Python.\n",
              "  outputElement.steps = steps;\n",
              "\n",
              "  return _uploadFilesContinue(outputId);\n",
              "}\n",
              "\n",
              "// This is roughly an async generator (not supported in the browser yet),\n",
              "// where there are multiple asynchronous steps and the Python side is going\n",
              "// to poll for completion of each step.\n",
              "// This uses a Promise to block the python side on completion of each step,\n",
              "// then passes the result of the previous step as the input to the next step.\n",
              "function _uploadFilesContinue(outputId) {\n",
              "  const outputElement = document.getElementById(outputId);\n",
              "  const steps = outputElement.steps;\n",
              "\n",
              "  const next = steps.next(outputElement.lastPromiseValue);\n",
              "  return Promise.resolve(next.value.promise).then((value) => {\n",
              "    // Cache the last promise value to make it available to the next\n",
              "    // step of the generator.\n",
              "    outputElement.lastPromiseValue = value;\n",
              "    return next.value.response;\n",
              "  });\n",
              "}\n",
              "\n",
              "/**\n",
              " * Generator function which is called between each async step of the upload\n",
              " * process.\n",
              " * @param {string} inputId Element ID of the input file picker element.\n",
              " * @param {string} outputId Element ID of the output display.\n",
              " * @return {!Iterable<!Object>} Iterable of next steps.\n",
              " */\n",
              "function* uploadFilesStep(inputId, outputId) {\n",
              "  const inputElement = document.getElementById(inputId);\n",
              "  inputElement.disabled = false;\n",
              "\n",
              "  const outputElement = document.getElementById(outputId);\n",
              "  outputElement.innerHTML = '';\n",
              "\n",
              "  const pickedPromise = new Promise((resolve) => {\n",
              "    inputElement.addEventListener('change', (e) => {\n",
              "      resolve(e.target.files);\n",
              "    });\n",
              "  });\n",
              "\n",
              "  const cancel = document.createElement('button');\n",
              "  inputElement.parentElement.appendChild(cancel);\n",
              "  cancel.textContent = 'Cancel upload';\n",
              "  const cancelPromise = new Promise((resolve) => {\n",
              "    cancel.onclick = () => {\n",
              "      resolve(null);\n",
              "    };\n",
              "  });\n",
              "\n",
              "  // Wait for the user to pick the files.\n",
              "  const files = yield {\n",
              "    promise: Promise.race([pickedPromise, cancelPromise]),\n",
              "    response: {\n",
              "      action: 'starting',\n",
              "    }\n",
              "  };\n",
              "\n",
              "  cancel.remove();\n",
              "\n",
              "  // Disable the input element since further picks are not allowed.\n",
              "  inputElement.disabled = true;\n",
              "\n",
              "  if (!files) {\n",
              "    return {\n",
              "      response: {\n",
              "        action: 'complete',\n",
              "      }\n",
              "    };\n",
              "  }\n",
              "\n",
              "  for (const file of files) {\n",
              "    const li = document.createElement('li');\n",
              "    li.append(span(file.name, {fontWeight: 'bold'}));\n",
              "    li.append(span(\n",
              "        `(${file.type || 'n/a'}) - ${file.size} bytes, ` +\n",
              "        `last modified: ${\n",
              "            file.lastModifiedDate ? file.lastModifiedDate.toLocaleDateString() :\n",
              "                                    'n/a'} - `));\n",
              "    const percent = span('0% done');\n",
              "    li.appendChild(percent);\n",
              "\n",
              "    outputElement.appendChild(li);\n",
              "\n",
              "    const fileDataPromise = new Promise((resolve) => {\n",
              "      const reader = new FileReader();\n",
              "      reader.onload = (e) => {\n",
              "        resolve(e.target.result);\n",
              "      };\n",
              "      reader.readAsArrayBuffer(file);\n",
              "    });\n",
              "    // Wait for the data to be ready.\n",
              "    let fileData = yield {\n",
              "      promise: fileDataPromise,\n",
              "      response: {\n",
              "        action: 'continue',\n",
              "      }\n",
              "    };\n",
              "\n",
              "    // Use a chunked sending to avoid message size limits. See b/62115660.\n",
              "    let position = 0;\n",
              "    do {\n",
              "      const length = Math.min(fileData.byteLength - position, MAX_PAYLOAD_SIZE);\n",
              "      const chunk = new Uint8Array(fileData, position, length);\n",
              "      position += length;\n",
              "\n",
              "      const base64 = btoa(String.fromCharCode.apply(null, chunk));\n",
              "      yield {\n",
              "        response: {\n",
              "          action: 'append',\n",
              "          file: file.name,\n",
              "          data: base64,\n",
              "        },\n",
              "      };\n",
              "\n",
              "      let percentDone = fileData.byteLength === 0 ?\n",
              "          100 :\n",
              "          Math.round((position / fileData.byteLength) * 100);\n",
              "      percent.textContent = `${percentDone}% done`;\n",
              "\n",
              "    } while (position < fileData.byteLength);\n",
              "  }\n",
              "\n",
              "  // All done.\n",
              "  yield {\n",
              "    response: {\n",
              "      action: 'complete',\n",
              "    }\n",
              "  };\n",
              "}\n",
              "\n",
              "scope.google = scope.google || {};\n",
              "scope.google.colab = scope.google.colab || {};\n",
              "scope.google.colab._files = {\n",
              "  _uploadFiles,\n",
              "  _uploadFilesContinue,\n",
              "};\n",
              "})(self);\n",
              "</script> "
            ]
          },
          "metadata": {}
        },
        {
          "output_type": "stream",
          "name": "stdout",
          "text": [
            "Saving New Text Document.txt to New Text Document.txt\n"
          ]
        }
      ]
    },
    {
      "cell_type": "code",
      "source": [
        "import pandas as pd\n",
        "df = pd.read_csv('train.csv')\n",
        "print(df.head())"
      ],
      "metadata": {
        "colab": {
          "base_uri": "https://localhost:8080/"
        },
        "id": "ejiHc_k9fb2K",
        "outputId": "92551ed9-7906-4d58-d11a-011e2479825c"
      },
      "execution_count": null,
      "outputs": [
        {
          "output_type": "stream",
          "name": "stdout",
          "text": [
            "   PassengerId  Survived  Pclass  \\\n",
            "0            1         0       3   \n",
            "1            2         1       1   \n",
            "2            3         1       3   \n",
            "3            4         1       1   \n",
            "4            5         0       3   \n",
            "\n",
            "                                                Name     Sex   Age  SibSp  \\\n",
            "0                            Braund, Mr. Owen Harris    male  22.0      1   \n",
            "1  Cumings, Mrs. John Bradley (Florence Briggs Th...  female  38.0      1   \n",
            "2                             Heikkinen, Miss. Laina  female  26.0      0   \n",
            "3       Futrelle, Mrs. Jacques Heath (Lily May Peel)  female  35.0      1   \n",
            "4                           Allen, Mr. William Henry    male  35.0      0   \n",
            "\n",
            "   Parch            Ticket     Fare Cabin Embarked  \n",
            "0      0         A/5 21171   7.2500   NaN        S  \n",
            "1      0          PC 17599  71.2833   C85        C  \n",
            "2      0  STON/O2. 3101282   7.9250   NaN        S  \n",
            "3      0            113803  53.1000  C123        S  \n",
            "4      0            373450   8.0500   NaN        S  \n"
          ]
        }
      ]
    }
  ]
}